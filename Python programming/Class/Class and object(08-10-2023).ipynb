{
 "cells": [
  {
   "cell_type": "markdown",
   "metadata": {},
   "source": [
    "# CLass and Objects"
   ]
  },
  {
   "cell_type": "code",
   "execution_count": 8,
   "metadata": {},
   "outputs": [
    {
     "name": "stdout",
     "output_type": "stream",
     "text": [
      "1653269611696\n",
      "1653286091312\n",
      "1653300121136\n",
      "<__main__.Account object at 0x00000180EF87B880>\n"
     ]
    }
   ],
   "source": [
    "class Account: #Empty class\n",
    "    pass\n",
    "a1 = Account() #constructor call\n",
    "a2 = Account() \n",
    "a1.name = 'Hitesh'\n",
    "a2.surname = 'salimath'\n",
    "a1.balance = 2000\n",
    "a2.value = 10000\n",
    "a2.balance = 0\n",
    "print(id(Account)) # id is the memory location of the class \n",
    "print(id(a1))\n",
    "print(id(a1.name))\n",
    "print(a2)"
   ]
  },
  {
   "cell_type": "code",
   "execution_count": 10,
   "metadata": {},
   "outputs": [
    {
     "name": "stdout",
     "output_type": "stream",
     "text": [
      "Hitesh\n",
      "salimath\n"
     ]
    }
   ],
   "source": [
    "print(a1.name) #object.attribute syntax\n",
    "print(a2.surname)"
   ]
  },
  {
   "cell_type": "code",
   "execution_count": 11,
   "metadata": {},
   "outputs": [
    {
     "ename": "AttributeError",
     "evalue": "'Account' object has no attribute 'balance'",
     "output_type": "error",
     "traceback": [
      "\u001b[1;31m---------------------------------------------------------------------------\u001b[0m",
      "\u001b[1;31mAttributeError\u001b[0m                            Traceback (most recent call last)",
      "\u001b[1;32m~\\AppData\\Local\\Temp\\ipykernel_8448\\1958592981.py\u001b[0m in \u001b[0;36m<module>\u001b[1;34m\u001b[0m\n\u001b[0;32m      1\u001b[0m \u001b[1;32mdel\u001b[0m \u001b[0ma2\u001b[0m\u001b[1;33m.\u001b[0m\u001b[0mbalance\u001b[0m\u001b[1;33m\u001b[0m\u001b[1;33m\u001b[0m\u001b[0m\n\u001b[1;32m----> 2\u001b[1;33m \u001b[0mprint\u001b[0m\u001b[1;33m(\u001b[0m\u001b[0ma2\u001b[0m\u001b[1;33m.\u001b[0m\u001b[0mbalance\u001b[0m\u001b[1;33m)\u001b[0m\u001b[1;33m\u001b[0m\u001b[1;33m\u001b[0m\u001b[0m\n\u001b[0m",
      "\u001b[1;31mAttributeError\u001b[0m: 'Account' object has no attribute 'balance'"
     ]
    }
   ],
   "source": [
    "del a2.balance\n",
    "print(a2.balance)"
   ]
  },
  {
   "cell_type": "markdown",
   "metadata": {},
   "source": [
    "# Methods & Constructors\n",
    "\n",
    "Method is the function defined in the class.\n",
    "\n",
    "Constructor "
   ]
  },
  {
   "cell_type": "code",
   "execution_count": 18,
   "metadata": {},
   "outputs": [
    {
     "name": "stdout",
     "output_type": "stream",
     "text": [
      "2420\n"
     ]
    }
   ],
   "source": [
    "class Account:\n",
    "    def deposit(self, amount): #self is the keyword representing the object\n",
    "        self.balance += amount\n",
    "a = Account()\n",
    "a.balance = 2000\n",
    "a.deposit(420) #implicit argument\n",
    "print(a.balance)"
   ]
  },
  {
   "cell_type": "code",
   "execution_count": 19,
   "metadata": {},
   "outputs": [
    {
     "data": {
      "text/plain": [
       "2920"
      ]
     },
     "execution_count": 19,
     "metadata": {},
     "output_type": "execute_result"
    }
   ],
   "source": [
    "Account.deposit(a,500) #Explicit call\n",
    "a.balance"
   ]
  },
  {
   "cell_type": "code",
   "execution_count": 20,
   "metadata": {},
   "outputs": [
    {
     "ename": "AttributeError",
     "evalue": "'Account' object has no attribute 'balance'",
     "output_type": "error",
     "traceback": [
      "\u001b[1;31m---------------------------------------------------------------------------\u001b[0m",
      "\u001b[1;31mAttributeError\u001b[0m                            Traceback (most recent call last)",
      "\u001b[1;32m~\\AppData\\Local\\Temp\\ipykernel_8448\\35179753.py\u001b[0m in \u001b[0;36m<module>\u001b[1;34m\u001b[0m\n\u001b[0;32m      1\u001b[0m \u001b[0mb\u001b[0m \u001b[1;33m=\u001b[0m \u001b[0mAccount\u001b[0m\u001b[1;33m(\u001b[0m\u001b[1;33m)\u001b[0m\u001b[1;33m\u001b[0m\u001b[1;33m\u001b[0m\u001b[0m\n\u001b[1;32m----> 2\u001b[1;33m \u001b[0mb\u001b[0m\u001b[1;33m.\u001b[0m\u001b[0mdeposit\u001b[0m\u001b[1;33m(\u001b[0m\u001b[1;36m100\u001b[0m\u001b[1;33m)\u001b[0m\u001b[1;33m\u001b[0m\u001b[1;33m\u001b[0m\u001b[0m\n\u001b[0m",
      "\u001b[1;32m~\\AppData\\Local\\Temp\\ipykernel_8448\\2449521918.py\u001b[0m in \u001b[0;36mdeposit\u001b[1;34m(self, amount)\u001b[0m\n\u001b[0;32m      1\u001b[0m \u001b[1;32mclass\u001b[0m \u001b[0mAccount\u001b[0m\u001b[1;33m:\u001b[0m\u001b[1;33m\u001b[0m\u001b[1;33m\u001b[0m\u001b[0m\n\u001b[0;32m      2\u001b[0m     \u001b[1;32mdef\u001b[0m \u001b[0mdeposit\u001b[0m\u001b[1;33m(\u001b[0m\u001b[0mself\u001b[0m\u001b[1;33m,\u001b[0m \u001b[0mamount\u001b[0m\u001b[1;33m)\u001b[0m\u001b[1;33m:\u001b[0m \u001b[1;31m#self is the keyword representing the object\u001b[0m\u001b[1;33m\u001b[0m\u001b[1;33m\u001b[0m\u001b[0m\n\u001b[1;32m----> 3\u001b[1;33m         \u001b[0mself\u001b[0m\u001b[1;33m.\u001b[0m\u001b[0mbalance\u001b[0m \u001b[1;33m+=\u001b[0m \u001b[0mamount\u001b[0m\u001b[1;33m\u001b[0m\u001b[1;33m\u001b[0m\u001b[0m\n\u001b[0m\u001b[0;32m      4\u001b[0m \u001b[0ma\u001b[0m \u001b[1;33m=\u001b[0m \u001b[0mAccount\u001b[0m\u001b[1;33m(\u001b[0m\u001b[1;33m)\u001b[0m\u001b[1;33m\u001b[0m\u001b[1;33m\u001b[0m\u001b[0m\n\u001b[0;32m      5\u001b[0m \u001b[0ma\u001b[0m\u001b[1;33m.\u001b[0m\u001b[0mbalance\u001b[0m \u001b[1;33m=\u001b[0m \u001b[1;36m2000\u001b[0m\u001b[1;33m\u001b[0m\u001b[1;33m\u001b[0m\u001b[0m\n",
      "\u001b[1;31mAttributeError\u001b[0m: 'Account' object has no attribute 'balance'"
     ]
    }
   ],
   "source": [
    "b = Account()\n",
    "b.deposit(100)"
   ]
  },
  {
   "cell_type": "code",
   "execution_count": 30,
   "metadata": {},
   "outputs": [
    {
     "name": "stdout",
     "output_type": "stream",
     "text": [
      "Name = john, \n",
      "number = 3000001, \n",
      "balance = 2700\n",
      "2700\n",
      "None\n",
      "{'name': 'john', 'number': 3000001, 'balance': 2700}\n",
      "__main__\n"
     ]
    }
   ],
   "source": [
    "# Constructor\n",
    "#creation of class along with the attributes\n",
    "class Account:\n",
    "    def __init__(self, name, number,balance=0):\n",
    "        self.name = name\n",
    "        self.number = number\n",
    "        self.balance =  balance\n",
    "    def deposit(self, amount):\n",
    "        self.balance += amount\n",
    "    def acc_details(self):\n",
    "        print(\"Name = %s, \\nnumber = %d, \\nbalance = %d\"%(self.name, self.number, self.balance))\n",
    "\n",
    "a = Account('john',3000001,2600)\n",
    "a.deposit(100)\n",
    "a.acc_details()\n",
    "print(a.balance)\n",
    "print(a.__doc__)\n",
    "print(a.__dict__)\n",
    "print(a.__module__)"
   ]
  },
  {
   "cell_type": "code",
   "execution_count": 32,
   "metadata": {},
   "outputs": [
    {
     "name": "stdout",
     "output_type": "stream",
     "text": [
      "Name = john, \n",
      "number = 3000001, \n",
      "balance = 2700\n",
      "2700\n"
     ]
    }
   ],
   "source": [
    "class Account:\n",
    "    def __init__(self, name, number,balance=0):\n",
    "        self.name = name\n",
    "        self.number = number\n",
    "        self.balance =  balance\n",
    "    def deposit(self, amount):\n",
    "        self.balance += amount\n",
    "    def __str__(self): # directly prints the atributes\n",
    "        return(\"Name = %s, \\nnumber = %d, \\nbalance = %d\"%(self.name, self.number, self.balance))\n",
    "\n",
    "a = Account('john',3000001,2600)\n",
    "a.deposit(100)\n",
    "print(a)\n",
    "print(a.balance)"
   ]
  },
  {
   "cell_type": "markdown",
   "metadata": {},
   "source": [
    "# Inheritance\n",
    "\n",
    "sub classes have the properties of parent class in called inheritance"
   ]
  },
  {
   "cell_type": "code",
   "execution_count": null,
   "metadata": {},
   "outputs": [],
   "source": [
    "class Account:\n",
    "    total = 10001\n",
    "    def __init__(self, name, number,balance=0):\n",
    "        self.name = name\n",
    "        self.number = Account.total\n",
    "        self.balance =  balance\n",
    "        Account.total += 1\n",
    "    def deposit(self, amount):\n",
    "        if amount <= 0:\n",
    "            print(\"Error, negative amount\")\n",
    "            return\n",
    "        self.balance += amount\n",
    "    def withdraw(self, amount):\n",
    "        if amount <= 0:\n",
    "            print(\"Error, negative amount\")\n",
    "            return\n",
    "        if amount>self.balance:\n",
    "            print(\"Error: Insufficient funds\")\n",
    "            return\n",
    "        self.balance -= amount\n",
    "    def __str__(self):\n",
    "        return \"Name: %s \\n number = %d \\n\"%(name,number)"
   ]
  },
  {
   "cell_type": "markdown",
   "metadata": {},
   "source": [
    "## Sub class"
   ]
  },
  {
   "cell_type": "code",
   "execution_count": 33,
   "metadata": {},
   "outputs": [],
   "source": [
    "class CreditAccount(Account):\n",
    "    pass"
   ]
  },
  {
   "cell_type": "code",
   "execution_count": null,
   "metadata": {},
   "outputs": [],
   "source": [
    "a1 = Account(\"john\")\n",
    "a2 = CreditAccount(\"johny\")\n",
    "a3 = "
   ]
  },
  {
   "cell_type": "markdown",
   "metadata": {},
   "source": [
    "## Polymorphism\n",
    "\n",
    "A single function executin multiple operations"
   ]
  },
  {
   "cell_type": "code",
   "execution_count": 34,
   "metadata": {},
   "outputs": [
    {
     "name": "stdout",
     "output_type": "stream",
     "text": [
      "MCA is a postgragute program\n",
      "MCA is a trimester program\n",
      "MCA - Master of Computer Application\n",
      "Bcom is a under-gragute program\n",
      "MCA is a semester program\n",
      "Bcom - Bacheoler of Commerce\n"
     ]
    }
   ],
   "source": [
    "class PG():\n",
    "    def program(self):\n",
    "        print(\"MCA is a postgragute program\")\n",
    "    def semester(self):\n",
    "        print(\"MCA is a trimester program\")\n",
    "    def type(self):\n",
    "        print(\"MCA - Master of Computer Application\")\n",
    "class UG():\n",
    "    def program(self):\n",
    "        print(\"Bcom is a under-gragute program\")\n",
    "    def semester(self):\n",
    "        print(\"MCA is a semester program\")\n",
    "    def type(self):\n",
    "        print(\"Bcom - Bacheoler of Commerce\")\n",
    "\n",
    "obj_PG = PG()\n",
    "obj_UG = UG()\n",
    "for graduate in (obj_PG, obj_UG):\n",
    "    graduate.program()\n",
    "    graduate.semester()\n",
    "    graduate.type()"
   ]
  },
  {
   "cell_type": "markdown",
   "metadata": {},
   "source": [
    "### create a list. get input n from the user check if n is present in n or not if yes generate multiplication table for n, else consider n as index position.input range is 1-10"
   ]
  },
  {
   "cell_type": "code",
   "execution_count": 4,
   "metadata": {},
   "outputs": [
    {
     "name": "stdout",
     "output_type": "stream",
     "text": [
      "Please Select any other value\n"
     ]
    }
   ],
   "source": [
    "li = [1,2,3,4,5,6,7,8,9,10]\n",
    "n = int(input(\"Enter a positive number: \"))\n",
    "\n",
    "if n in li:\n",
    "    for i in range(1,10):\n",
    "        print(n,\" X \",i,\" = \",n*i)\n",
    "else :\n",
    "    if n < len(li):\n",
    "        print(li[n])\n",
    "    else:\n",
    "        print(\"Please Select any other value\")"
   ]
  },
  {
   "cell_type": "markdown",
   "metadata": {},
   "source": [
    "# Inheritance types"
   ]
  },
  {
   "cell_type": "code",
   "execution_count": 2,
   "metadata": {},
   "outputs": [
    {
     "name": "stdout",
     "output_type": "stream",
     "text": [
      "school of science\n",
      "schoolname =  school of science\n",
      "Department name =  Department of cs\n"
     ]
    }
   ],
   "source": [
    "#Sigle iheritance\n",
    "\n",
    "class school: # base class\n",
    "    def __init__(self,schoolname):\n",
    "        self.schoolname = schoolname\n",
    "    def print_name(self):\n",
    "        print(\"schoolname = \", self.schoolname)\n",
    "        print(\"Department name = \", self.departmentname)\n",
    "\n",
    "class department1(school):\n",
    "    def __init__(self,departmentname,schoolname):\n",
    "        self.departmentname =departmentname\n",
    "\n",
    "        school.__init__(self,schoolname) # ivoking connstruction of base class\n",
    "\n",
    "\n",
    "obj1 = department1(\"Department of cs\",\"school of science\")\n",
    "print(obj1.schoolname)\n",
    "obj1.print_name()"
   ]
  },
  {
   "cell_type": "code",
   "execution_count": 11,
   "metadata": {},
   "outputs": [
    {
     "name": "stdout",
     "output_type": "stream",
     "text": [
      "25\n",
      "Department1 name is: Department of computer science\n",
      "Department2 name is: Department of commerce\n",
      "year old is: 25\n"
     ]
    }
   ],
   "source": [
    "#Multiple inheritance\n",
    "\n",
    "class Department1():\n",
    "    def __init__(self, departmentname):\n",
    "        self.departmentname1 = departmentname\n",
    "\n",
    "class Department2():\n",
    "    def __init__(self, departmentname):\n",
    "        self.departmentname2 = departmentname\n",
    "\n",
    "class old(Department1, Department2):\n",
    "    def __init__(self, old, departmentname1, departmentname2):\n",
    "        self.old = old\n",
    "\n",
    "        Department1.__init__(self, departmentname1)\n",
    "        Department2.__init__(self, departmentname2)\n",
    "\n",
    "    def print_names(self):\n",
    "        print(\"Department1 name is:\", self.departmentname1)\n",
    "        print(\"Department2 name is:\", self.departmentname2)\n",
    "        print(\"year old is:\", self.old)\n",
    "\n",
    "obj2 = old(25, \"Department of computer science\", \"Department of commerce\")\n",
    "print(obj2.old)\n",
    "obj2.print_names()"
   ]
  },
  {
   "cell_type": "code",
   "execution_count": 12,
   "metadata": {},
   "outputs": [
    {
     "ename": "TypeError",
     "evalue": "Cannot create a consistent method resolution\norder (MRO) for bases school, department1",
     "output_type": "error",
     "traceback": [
      "\u001b[1;31m---------------------------------------------------------------------------\u001b[0m",
      "\u001b[1;31mTypeError\u001b[0m                                 Traceback (most recent call last)",
      "\u001b[1;32m~\\AppData\\Local\\Temp\\ipykernel_10556\\2458863286.py\u001b[0m in \u001b[0;36m<module>\u001b[1;34m\u001b[0m\n\u001b[0;32m     11\u001b[0m         \u001b[0mschool\u001b[0m\u001b[1;33m.\u001b[0m\u001b[0m__init__\u001b[0m\u001b[1;33m(\u001b[0m\u001b[0mself\u001b[0m\u001b[1;33m,\u001b[0m\u001b[0mschoolname\u001b[0m\u001b[1;33m)\u001b[0m\u001b[1;33m\u001b[0m\u001b[1;33m\u001b[0m\u001b[0m\n\u001b[0;32m     12\u001b[0m \u001b[1;33m\u001b[0m\u001b[0m\n\u001b[1;32m---> 13\u001b[1;33m \u001b[1;32mclass\u001b[0m \u001b[0mold\u001b[0m\u001b[1;33m(\u001b[0m\u001b[0mschool\u001b[0m\u001b[1;33m,\u001b[0m\u001b[0mdepartment1\u001b[0m\u001b[1;33m)\u001b[0m\u001b[1;33m:\u001b[0m\u001b[1;33m\u001b[0m\u001b[1;33m\u001b[0m\u001b[0m\n\u001b[0m\u001b[0;32m     14\u001b[0m     \u001b[1;32mdef\u001b[0m \u001b[0m__init__\u001b[0m\u001b[1;33m(\u001b[0m\u001b[0mself\u001b[0m\u001b[1;33m,\u001b[0m\u001b[0mold\u001b[0m\u001b[1;33m,\u001b[0m\u001b[0mschoolname\u001b[0m\u001b[1;33m,\u001b[0m\u001b[0mdepartmentname\u001b[0m\u001b[1;33m)\u001b[0m\u001b[1;33m:\u001b[0m\u001b[1;33m\u001b[0m\u001b[1;33m\u001b[0m\u001b[0m\n\u001b[0;32m     15\u001b[0m         \u001b[0mself\u001b[0m\u001b[1;33m.\u001b[0m\u001b[0mold\u001b[0m \u001b[1;33m=\u001b[0m \u001b[0mold\u001b[0m\u001b[1;33m\u001b[0m\u001b[1;33m\u001b[0m\u001b[0m\n",
      "\u001b[1;31mTypeError\u001b[0m: Cannot create a consistent method resolution\norder (MRO) for bases school, department1"
     ]
    }
   ],
   "source": [
    "#Multilevel Inheritance\n",
    "\n",
    "class school: # base class\n",
    "    def __init__(self,schoolname):\n",
    "        self.schoolname = schoolname\n",
    "\n",
    "class department1(school):\n",
    "    def __init__(self,departmentname,schoolname):\n",
    "        self.departmentname =departmentname\n",
    "\n",
    "        school.__init__(self,schoolname) \n",
    "\n",
    "class old(school,department1):\n",
    "    def __init__(self,old,schoolname,departmentname):\n",
    "        self.old = old\n",
    "\n",
    "    def print_names(self):\n",
    "        print(\"School name: \",self.schoolname)\n",
    "        print(\"Department name: \",self.departmentname)\n",
    "        print(\"old: \",self.old)\n",
    "    \n",
    "obj3 = old(36,\"school of science\",\"Department of computer science\")\n",
    "print(obj1.old)\n",
    "obj3.print_names()\n"
   ]
  },
  {
   "cell_type": "code",
   "execution_count": 5,
   "metadata": {},
   "outputs": [
    {
     "name": "stdout",
     "output_type": "stream",
     "text": [
      "school name:  school name\n",
      "departmet name:  department name\n"
     ]
    }
   ],
   "source": [
    "#Hirarchial inheritance\n",
    "\n",
    "class school:\n",
    "    def __init__(self,schoolname):\n",
    "        self.schoolname = schoolname\n",
    "    def print_name(self):\n",
    "        print('school name: ',self.schoolname)\n",
    "        print('departmet name: ',self.departmentname)\n",
    "\n",
    "class department1(school):\n",
    "    def __init__(self, schoolname, departmentname):\n",
    "        self.departmentname = departmentname\n",
    "\n",
    "        school.__init__(self,schoolname) #invoing constructor of base class\n",
    "\n",
    "class department2(school):\n",
    "    def __init__(self, schoolname, departmentname):\n",
    "        self.departmentname = departmentname\n",
    "\n",
    "        school.__init__(self,schoolname)\n",
    "\n",
    "class department3(school):\n",
    "    def __init__(self, schoolname, departmentname):\n",
    "        self.departmentname = departmentname\n",
    "\n",
    "        school.__init__(self,schoolname)\n",
    "\n",
    "obj4 = department1(\"school name\", \"department name\")\n",
    "# obj5 = school(\"salsa\")\n",
    "# obj5.print_name()\n",
    "obj4.print_name()\n"
   ]
  },
  {
   "cell_type": "code",
   "execution_count": null,
   "metadata": {},
   "outputs": [],
   "source": [
    "#Abstract class\n",
    "from abc import ABC\n",
    "\n",
    "class shape():\n",
    "    @abstractmethod\n",
    "    def area(self):\n",
    "        pass\n"
   ]
  }
 ],
 "metadata": {
  "kernelspec": {
   "display_name": "base",
   "language": "python",
   "name": "python3"
  },
  "language_info": {
   "codemirror_mode": {
    "name": "ipython",
    "version": 3
   },
   "file_extension": ".py",
   "mimetype": "text/x-python",
   "name": "python",
   "nbconvert_exporter": "python",
   "pygments_lexer": "ipython3",
   "version": "3.11.4"
  },
  "orig_nbformat": 4
 },
 "nbformat": 4,
 "nbformat_minor": 2
}
