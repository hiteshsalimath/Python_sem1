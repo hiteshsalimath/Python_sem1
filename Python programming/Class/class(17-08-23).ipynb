{
 "cells": [
  {
   "cell_type": "markdown",
   "metadata": {},
   "source": [
    "# Exception Handling"
   ]
  },
  {
   "cell_type": "code",
   "execution_count": 11,
   "metadata": {},
   "outputs": [],
   "source": [
    "def f(x):\n",
    "    try:\n",
    "        print(1.0/x)\n",
    "    except ZeroDivisionError:\n",
    "        print('zero division error')\n",
    "    except (TypeError, ValueError):\n",
    "        print('type error or value error')\n",
    "    else:\n",
    "        print(\"No error detected\")\n",
    "    finally:\n",
    "        print(\" finished handling error\")"
   ]
  },
  {
   "cell_type": "code",
   "execution_count": 12,
   "metadata": {},
   "outputs": [
    {
     "name": "stdout",
     "output_type": "stream",
     "text": [
      "zero division error\n",
      " finished handling error\n"
     ]
    }
   ],
   "source": [
    "f(0)"
   ]
  },
  {
   "cell_type": "code",
   "execution_count": 13,
   "metadata": {},
   "outputs": [
    {
     "name": "stdout",
     "output_type": "stream",
     "text": [
      "type error or value error\n",
      " finished handling error\n"
     ]
    }
   ],
   "source": [
    "f(\"hitesh\")"
   ]
  },
  {
   "cell_type": "code",
   "execution_count": 14,
   "metadata": {},
   "outputs": [
    {
     "name": "stdout",
     "output_type": "stream",
     "text": [
      "0.2\n",
      "No error detected\n",
      " finished handling error\n"
     ]
    }
   ],
   "source": [
    "f(5)"
   ]
  },
  {
   "cell_type": "markdown",
   "metadata": {},
   "source": [
    "CGPA =[9,7,6,5,10,3,9,6,6,4]\n",
    "\n",
    "-a- An expression that evaluates to the number of 6 CGPA</br>\n",
    "-b- A statement that changes the last CGPA of 3</br>\n",
    "-c- An expression that evaluates the maximum CGPA</br>\n",
    "-d- A statement that sorts the list</br>\n",
    "-e- An expression that evaluates average CGPA</br>"
   ]
  },
  {
   "cell_type": "code",
   "execution_count": 12,
   "metadata": {},
   "outputs": [
    {
     "name": "stdout",
     "output_type": "stream",
     "text": [
      "-a- Number of 6 CGPA in the list:  3\n",
      "-b- The updated list is:  [9, 7, 6, 5, 10, 3, 9, 6, 6, 3]\n",
      "-c- The maximum CGPA value is:  10\n",
      "-d- The sorted list is:  [3, 3, 5, 6, 6, 6, 7, 9, 9, 10]\n",
      "-e- The average CGPA of the class is:  6.4\n"
     ]
    }
   ],
   "source": [
    "cgpa = [9,7,6,5,10,3,9,6,6,4]\n",
    "\n",
    "#a\n",
    "no_6 = cgpa.count(6)\n",
    "print(\"-a- Number of 6 CGPA in the list: \", no_6)\n",
    "\n",
    "#b\n",
    "cgpa[-1] = 3\n",
    "print(\"-b- The updated list is: \", cgpa)\n",
    "\n",
    "#c\n",
    "maximum = max(cgpa)\n",
    "print(\"-c- The maximum CGPA value is: \", maximum)\n",
    "\n",
    "#d\n",
    "sorti = sorted(cgpa)\n",
    "print(\"-d- The sorted list is: \", sorti)\n",
    "\n",
    "#e\n",
    "sum = 0\n",
    "\n",
    "for i in cgpa:\n",
    "    sum += i\n",
    "average = (sum/len(cgpa))\n",
    "print(\"-e- The average CGPA of the class is: \", average)"
   ]
  },
  {
   "cell_type": "markdown",
   "metadata": {},
   "source": [
    "# Q2\n",
    "\n",
    "Start by assigning to variable answers a list containing an arbitary sequence of strings 'Y' and 'N'<br>\n",
    "\n",
    "-a- Assign a variable numYes the number of occurances of Y in the answer list<br>\n",
    "-b- Assign a variable nuumNo the number of N occurances<br>\n",
    "-c- Assign percentYes the percentage of Y <br>\n",
    "-d- sort the answer list<br>\n",
    "-e- Assign a variable f the index of the first occurance of Y in sorted list<br>"
   ]
  },
  {
   "cell_type": "code",
   "execution_count": 2,
   "metadata": {},
   "outputs": [
    {
     "name": "stdout",
     "output_type": "stream",
     "text": [
      "['Y', 'N', 'Y', 'NY', 'N', 'Y', 'N', 'Y', 'N', 'Y']\n"
     ]
    }
   ],
   "source": [
    "response = []\n",
    "for i in range(0,10):\n",
    "    response_user = str(input(\"Enter your response as Y or N: \"))\n",
    "    response.append(response_user)\n",
    "print(response)\n",
    "\n",
    "\n"
   ]
  },
  {
   "cell_type": "code",
   "execution_count": 8,
   "metadata": {},
   "outputs": [
    {
     "name": "stdout",
     "output_type": "stream",
     "text": [
      "\n",
      " The number of yes response is:  5 \n",
      " The number of no response is:  4 \n",
      " The average Yes responses are:  50.0\n",
      "Sorted response list is:  ['N', 'N', 'N', 'N', 'NY', 'Y', 'Y', 'Y', 'Y', 'Y']\n",
      "['Y', 'N', 'Y', 'NY', 'N', 'Y', 'N', 'Y', 'N', 'Y']\n",
      "5\n"
     ]
    }
   ],
   "source": [
    "numYes = response.count('Y')\n",
    "numNo = response.count('N')\n",
    "PercentYes = (numYes/len(response)) * 100\n",
    "print(\n",
    "    \"\\n The number of yes response is: \",numYes,\n",
    "    \"\\n The number of no response is: \",numNo,\n",
    "    \"\\n The average Yes responses are: \",PercentYes\n",
    " )\n",
    "sorti_respon = sorted(response)\n",
    "print(\"Sorted response list is: \",sorti_respon)\n",
    "\n",
    "f = sorti_respon.index(\"Y\")\n",
    "print(response)\n",
    "print(f)"
   ]
  },
  {
   "cell_type": "markdown",
   "metadata": {},
   "source": [
    "# 21-08-2023\n",
    "\n",
    "Stockrowker questions"
   ]
  },
  {
   "cell_type": "code",
   "execution_count": 14,
   "metadata": {},
   "outputs": [
    {
     "name": "stdout",
     "output_type": "stream",
     "text": [
      "{'sellamnt': 25005, 'buyamnt': 8210, 'qtysold': 625, 'qtybuy': 430}\n"
     ]
    }
   ],
   "source": [
    "\n",
    "\n",
    "\n",
    "\n",
    "cust1 = (('ABC', 250, 17, 's'),\n",
    "         ('XYZ', 180, 22, 's'),\n",
    "         ('BAC', 260, 33, 'b'),\n",
    "         ('ZXY', 365, 45, 'b'))\n",
    "total_buy = 0\n",
    "total_sell = 0\n",
    "total_sellqty = 0\n",
    "total_buyqty = 0\n",
    "\n",
    "for x in cust1:\n",
    "    if x[3]==\"s\":\n",
    "        total_buy += x[1]*x[2]\n",
    "        total_buyqty += x[1]\n",
    "    else:\n",
    "        total_sell += x[1]*x[2]\n",
    "        total_sellqty += x[1]\n",
    "\n",
    "trade_summary = {'sellamnt': total_sell,\n",
    "           'buyamnt': total_buy,\n",
    "           'qtysold':total_sellqty,\n",
    "           'qtybuy':total_buyqty}\n",
    "print(trade_summary)\n"
   ]
  },
  {
   "cell_type": "markdown",
   "metadata": {},
   "source": [
    "# 22-08-2023"
   ]
  },
  {
   "cell_type": "code",
   "execution_count": 23,
   "metadata": {},
   "outputs": [
    {
     "name": "stdout",
     "output_type": "stream",
     "text": [
      "The sentence: The quick brown fox jumps over the lazy dog - is a pangram.\n"
     ]
    }
   ],
   "source": [
    "#PANGRAM(Classroom)\n",
    "\n",
    "string = input(\"Enter the sentence under test for pangram: \")\n",
    "user_ip = list(string)\n",
    "alphebets = list(\"abcdefghijklmnopqrstuvwxyz\")\n",
    "\n",
    "#removing spaces:\n",
    "for i in user_ip:\n",
    "    if i == ' ':\n",
    "        user_ip.remove(' ')\n",
    "\n",
    "#converting list items to lower case\n",
    "test_ip = [x.lower() for x in user_ip]\n",
    "\n",
    "#checking for condition:\n",
    "test_alph = []\n",
    "repeated_chr =[]\n",
    "\n",
    "for i in test_ip:\n",
    "    if (i in alphebets):\n",
    "        alphebets.remove(i)\n",
    "        test_alph.append(i)\n",
    "    elif (i in test_alph):\n",
    "        repeated_chr.append(i)\n",
    "    else:\n",
    "        break\n",
    "\n",
    "#final check for true condition:\n",
    "if len(test_alph) == 26:\n",
    "    print(f\"The sentence: {string} - is a pangram.\")\n",
    "else:\n",
    "    print(f\"The sentence: {string} - is not a pangram\")"
   ]
  },
  {
   "cell_type": "code",
   "execution_count": 28,
   "metadata": {},
   "outputs": [
    {
     "name": "stdout",
     "output_type": "stream",
     "text": [
      "The given sentence: The big dwarf only jumps - is a hetrogram\n"
     ]
    }
   ],
   "source": [
    "#HETROGRAM(Classroom)\n",
    "\n",
    "user_in = input(\"Enter the sentence under test of heterogram: \")\n",
    "sentence_list = list(user_in.lower())\n",
    "alphebets_het = list(\"abcdefghijklmnopqrstuvwxyz\")\n",
    "\n",
    "#removing blank spaces:\n",
    "for i in sentence_list:\n",
    "    if i == ' ':\n",
    "        sentence_list.remove(' ')\n",
    "\n",
    "#checing for repitition:\n",
    "tested = []\n",
    "\n",
    "for i in sentence_list:\n",
    "    if i in alphebets_het:\n",
    "        alphebets_het.remove(i)\n",
    "        tested.append(i)\n",
    "    elif i in tested:\n",
    "        print(f\"The given sentence: {user_in} - is not hetrogram\")\n",
    "        break\n",
    "\n",
    "#checing for final true condition:\n",
    "if(len(tested) == len(sentence_list)):\n",
    "    print(f\"The given sentence: {user_in} - is a hetrogram\")\n"
   ]
  }
 ],
 "metadata": {
  "kernelspec": {
   "display_name": "Python 3",
   "language": "python",
   "name": "python3"
  },
  "language_info": {
   "codemirror_mode": {
    "name": "ipython",
    "version": 3
   },
   "file_extension": ".py",
   "mimetype": "text/x-python",
   "name": "python",
   "nbconvert_exporter": "python",
   "pygments_lexer": "ipython3",
   "version": "3.11.4"
  },
  "orig_nbformat": 4
 },
 "nbformat": 4,
 "nbformat_minor": 2
}
