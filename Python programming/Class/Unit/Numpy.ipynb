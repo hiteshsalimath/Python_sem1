{
 "cells": [
  {
   "cell_type": "code",
   "execution_count": 7,
   "metadata": {},
   "outputs": [
    {
     "name": "stdout",
     "output_type": "stream",
     "text": [
      "[1 2 3 4 5]\n"
     ]
    },
    {
     "data": {
      "text/plain": [
       "4"
      ]
     },
     "execution_count": 7,
     "metadata": {},
     "output_type": "execute_result"
    }
   ],
   "source": [
    "import numpy as np\n",
    "import random as rand\n",
    "\n",
    "a = np.array([1,2,3,4,5])\n",
    "print(a)\n",
    "\n",
    "a[3]\n"
   ]
  },
  {
   "cell_type": "code",
   "execution_count": 11,
   "metadata": {},
   "outputs": [
    {
     "name": "stdout",
     "output_type": "stream",
     "text": [
      "[28 11 13 23 86 28 32 69 11 91]\n"
     ]
    }
   ],
   "source": [
    "rand = np.random.RandomState(52) #keeps a generated random number same for all the random samples 22 is a assigned state\n",
    "x = rand.randint(100, size=10) #max value will be 100 for each element and size: number of elements are generated\n",
    "print(x)"
   ]
  },
  {
   "cell_type": "code",
   "execution_count": 10,
   "metadata": {},
   "outputs": [
    {
     "name": "stdout",
     "output_type": "stream",
     "text": [
      "[5 4 0 4 6 6 4 8 4 2]\n"
     ]
    }
   ],
   "source": [
    "rand = np.random.RandomState(22)\n",
    "x = rand.randint(10, size=10)\n",
    "print(x)"
   ]
  },
  {
   "cell_type": "code",
   "execution_count": 13,
   "metadata": {},
   "outputs": [
    {
     "name": "stdout",
     "output_type": "stream",
     "text": [
      "[23, 86, 28]\n"
     ]
    },
    {
     "data": {
      "text/plain": [
       "array([23, 86, 28])"
      ]
     },
     "execution_count": 13,
     "metadata": {},
     "output_type": "execute_result"
    }
   ],
   "source": [
    "#1D array\n",
    "\n",
    "print([x[3],x[4],x[5]]) # direct method\n",
    "\n",
    "ind = [3,4,5] #list of idex array\n",
    "x[ind] #accessing the inxed array and the list elements"
   ]
  },
  {
   "cell_type": "code",
   "execution_count": 14,
   "metadata": {},
   "outputs": [
    {
     "name": "stdout",
     "output_type": "stream",
     "text": [
      "[[3 7]\n",
      " [4 5]]\n",
      "[[23 69]\n",
      " [86 28]]\n"
     ]
    }
   ],
   "source": [
    "#2D array\n",
    "ind = np.array([[3,7],\n",
    "                [4,5]])\n",
    "print(ind)\n",
    "print(x[ind])"
   ]
  },
  {
   "cell_type": "code",
   "execution_count": 18,
   "metadata": {},
   "outputs": [
    {
     "name": "stdout",
     "output_type": "stream",
     "text": [
      "Index matrix: \n",
      " [[3 7 9]\n",
      " [4 5 1]]\n",
      "Accessed elements from the random list through indexed matrix:\n",
      "  [[23 69 91]\n",
      " [86 28 11]]\n"
     ]
    }
   ],
   "source": [
    "ind = np.array([[3,7,9],\n",
    "                [4,5,1],\n",
    "                ])\n",
    "print(\"Index matrix: \\n\",ind)\n",
    "print(\"Accessed elements from the random list through indexed matrix:\\n \",x[ind])"
   ]
  },
  {
   "cell_type": "code",
   "execution_count": 25,
   "metadata": {},
   "outputs": [
    {
     "name": "stdout",
     "output_type": "stream",
     "text": [
      "defined array:\n",
      "  [[ 1  2  3]\n",
      " [11 22 33]]\n",
      "Dimention of the array is 2 D\n",
      "Each item contains 4 bytes\n",
      "array size is (2, 3)\n",
      "Each item is of the type is int32\n"
     ]
    }
   ],
   "source": [
    "x2 = np.array([(1,2,3),(11,22,33)])\n",
    "\n",
    "print(\"defined array:\\n \",x2)\n",
    "print(\"Dimention of the array is\",x2.ndim,\"D\")\n",
    "print(\"Each item contains\", x2.itemsize,\"bytes\")\n",
    "print(\"array size is\",x2.shape)\n",
    "print(\"Each item is of the type is\", x2.dtype)"
   ]
  },
  {
   "cell_type": "code",
   "execution_count": 26,
   "metadata": {},
   "outputs": [
    {
     "name": "stdout",
     "output_type": "stream",
     "text": [
      "[12 24 36]\n",
      "[12 24 36]\n",
      "72\n"
     ]
    }
   ],
   "source": [
    "print(np.add.reduce(x2)) #column sum\n",
    "print(sum(x2)) #column sum\n",
    "print(np.sum(x2)) #sum of all the elements"
   ]
  },
  {
   "cell_type": "code",
   "execution_count": 30,
   "metadata": {},
   "outputs": [
    {
     "name": "stdout",
     "output_type": "stream",
     "text": [
      "original array:\n",
      " [[1 2]\n",
      " [3 4]\n",
      " [5 6]]\n",
      "reshaped array: \n",
      " [[1 2 3]\n",
      " [4 5 6]] \n",
      "6x1: \n",
      " [[1]\n",
      " [2]\n",
      " [3]\n",
      " [4]\n",
      " [5]\n",
      " [6]] \n",
      "1x6: \n",
      " [[1 2 3 4 5 6]]\n"
     ]
    }
   ],
   "source": [
    "#reshape\n",
    "a = np.array([[1,2],[3,4],[5,6]])\n",
    "print(\"original array:\\n\",a)\n",
    "ar1 = a.reshape(2,3)\n",
    "ar2 = a.reshape(6,1)\n",
    "ar3 = a.reshape(1,6)\n",
    "print(\"reshaped array: \\n\",ar1,\n",
    "      \"\\n6x1: \\n\",ar2,\n",
    "      \"\\n1x6: \\n\",ar3)"
   ]
  },
  {
   "cell_type": "code",
   "execution_count": 5,
   "metadata": {},
   "outputs": [
    {
     "name": "stdout",
     "output_type": "stream",
     "text": [
      "[ 0  1  2  3  4  5  6  7  8  9 10 11]\n",
      "[[ 0  1  2  3]\n",
      " [ 4  5  6  7]\n",
      " [ 8  9 10 11]]\n",
      "\n",
      "accessing the elements \n",
      " [6 4 5]\n",
      "\n",
      "accessing the row  \n",
      " [4 5 6 7]\n",
      "\n",
      " bottomsquare elements access\n",
      " [[ 9 10]]\n"
     ]
    }
   ],
   "source": [
    "import numpy as np\n",
    "a = np.arange(12)\n",
    "print(a)\n",
    "\n",
    "#putting elements in 2D\n",
    "a = np.arange(12).reshape((3,4))\n",
    "print(a)\n",
    "\n",
    "# combined indexing\n",
    "print(\"\\naccessing the elements \\n\",a[1,[2,0,1]])\n",
    "\n",
    "#accessing a row\n",
    "\n",
    "print(\"\\naccessing the row  \\n\",a[1,[0,1,2,3]])\n",
    "\n",
    "#bottom square access\n",
    "print(\"\\n bottomsquare elements access\\n\",(a[2:4,1:3]))\n"
   ]
  },
  {
   "cell_type": "code",
   "execution_count": 59,
   "metadata": {},
   "outputs": [
    {
     "name": "stdout",
     "output_type": "stream",
     "text": [
      "array:\n",
      " [[ 0  1  2  3]\n",
      " [ 4  5  6  7]\n",
      " [ 8  9 10 11]]\n",
      "The max element of matrix: 11\n",
      "the minimum the the matrix: 0\n",
      "the sum of all matrix elements: 66\n",
      "max val of a column: [ 8  9 10 11]\n",
      "min of row: [0 4 8]\n",
      "sum of row: [ 6 22 38]\n",
      "sum of column:  [12 15 18 21]\n",
      "sqrt of all elements: \n",
      " [[0.         1.         1.41421356 1.73205081]\n",
      " [2.         2.23606798 2.44948974 2.64575131]\n",
      " [2.82842712 3.         3.16227766 3.31662479]]\n",
      "std deviation of array elements: \n",
      " 3.452052529534663\n",
      "average of the vals:  5.5\n"
     ]
    }
   ],
   "source": [
    "#aggregations-computation on array\n",
    "\n",
    "print(\"array:\\n\",a)\n",
    "print(\"The max element of matrix:\",a.max())\n",
    "print(\"the minimum the the matrix:\",a.min())\n",
    "print(\"the sum of all matrix elements:\",a.sum())\n",
    "print(\"max val of a column:\" , a.max(axis=0))\n",
    "print(\"min of row:\", a.min(axis=1))\n",
    "print(\"sum of row:\",a.sum(axis=1))\n",
    "print(\"sum of column: \",a.sum(axis=0))\n",
    "print(\"sqrt of all elements: \\n\", np.sqrt(a))\n",
    "print(\"std deviation of array elements: \\n\",np.std(a))\n",
    "print(\"average of the vals: \",np.average(a))"
   ]
  },
  {
   "cell_type": "code",
   "execution_count": 61,
   "metadata": {},
   "outputs": [
    {
     "name": "stdout",
     "output_type": "stream",
     "text": [
      "array1 = \n",
      " [[ 1  2 30]\n",
      " [10 15  4]]\n",
      "array2 = \n",
      " [[ 1  2 30]\n",
      " [10 15  4]]\n",
      "sum of both arrays\n",
      " [[ 2  4 60]\n",
      " [20 30  8]]\n",
      "differsnce of arrays\n",
      " [[0 0 0]\n",
      " [0 0 0]]\n",
      "multiplication of arrays\n",
      " [[  1   4 900]\n",
      " [100 225  16]]\n",
      "division of arrays\n",
      " [[1. 1. 1.]\n",
      " [1. 1. 1.]]\n",
      "scalar mu:\n",
      "  [[ 3  6 90]\n",
      " [30 45 12]]\n"
     ]
    }
   ],
   "source": [
    "#arithematic operation on arrays:\n",
    "\n",
    "c = np.array([[1,2,30],[10,15,4]])\n",
    "print(\"array1 = \\n\",c)\n",
    "b = np.array([[1,2,30],[10,15,4]])\n",
    "print(\"array2 = \\n\",b)\n",
    "\n",
    "print('sum of both arrays\\n',c+b)\n",
    "print('differsnce of arrays\\n', c-b)\n",
    "print('multiplication of arrays\\n', c*b)\n",
    "print('division of arrays\\n',c/b)\n",
    "print('scalar mu:\\n ' , c*3)"
   ]
  },
  {
   "cell_type": "code",
   "execution_count": 66,
   "metadata": {},
   "outputs": [
    {
     "name": "stdout",
     "output_type": "stream",
     "text": [
      "array b\n",
      "[[ 1  2 30]\n",
      " [10 15  4]] \n",
      " arrayc\n",
      "[[ 1  2 30]\n",
      " [10 15  4]]\n",
      "\n",
      "Vertical cocatenation:\n",
      " [[ 1  2 30]\n",
      " [10 15  4]\n",
      " [ 1  2 30]\n",
      " [10 15  4]]\n",
      "\n",
      "Horizontal concatenation\n",
      " [[ 1  2 30  1  2 30]\n",
      " [10 15  4 10 15  4]]\n"
     ]
    }
   ],
   "source": [
    "#array concatenation\n",
    "print(\"array b\\n{} \\n array c\\n{}\".format(b,c))\n",
    "print(\"\\nVertical cocatenation:\\n\", np.vstack((b,c)))\n",
    "print(\"\\nHorizontal concatenation\\n\",np.hstack((b,c))) # "
   ]
  },
  {
   "cell_type": "code",
   "execution_count": 1,
   "metadata": {},
   "outputs": [],
   "source": [
    "# 30-08-2023"
   ]
  },
  {
   "cell_type": "code",
   "execution_count": 9,
   "metadata": {},
   "outputs": [
    {
     "name": "stdout",
     "output_type": "stream",
     "text": [
      "[0 1 2 3 4 5 6 7 8]\n",
      "[[0 1 2]\n",
      " [3 4 5]\n",
      " [6 7 8]]\n"
     ]
    }
   ],
   "source": [
    "import numpy as np\n",
    "a = np.arange(9)\n",
    "print(a)\n",
    "\n",
    "#putting elements in 2D\n",
    "a = np.arange(9).reshape((3,3))\n",
    "print(a)"
   ]
  },
  {
   "cell_type": "code",
   "execution_count": 14,
   "metadata": {},
   "outputs": [
    {
     "name": "stdout",
     "output_type": "stream",
     "text": [
      "[[1 2]\n",
      " [4 5]]\n",
      "[[1 2]\n",
      " [4 5]]\n",
      "[6 7 8]\n"
     ]
    }
   ],
   "source": [
    "# slicing of matrix\n",
    "\n",
    "# top right square\n",
    "print(a[:2,1:])\n",
    "print(a[0:2,1:3])\n",
    "\n",
    "# bottom row \n",
    "print(a[-1,:])\n"
   ]
  },
  {
   "cell_type": "code",
   "execution_count": 22,
   "metadata": {},
   "outputs": [
    {
     "name": "stdout",
     "output_type": "stream",
     "text": [
      "['bob' 'joe' 'will' 'bob']\n",
      "[[ 0  1  2]\n",
      " [ 3  4  5]\n",
      " [ 6  7  8]\n",
      " [ 9 10 11]]\n",
      "[ True False False  True]\n",
      "logic 1:  [ True  True False  True]\n",
      "[[ 0  1  2]\n",
      " [ 3  4  5]\n",
      " [ 9 10 11]]\n"
     ]
    }
   ],
   "source": [
    "#Booolean Indexing\n",
    "\n",
    "names = np.array(['bob','joe','will','bob'])\n",
    "print(names)\n",
    "\n",
    "\n",
    "\n",
    "#putting elements in 2D\n",
    "a = np.arange(12).reshape((4,3))\n",
    "print(a)\n",
    "\n",
    "\n",
    "print(names == \"bob\")\n",
    "a[names == 'bob']\n",
    "\n",
    "logic1 = (names == 'bob') | (names == 'joe')\n",
    "print('logic 1: ', logic1)\n",
    "print(a[logic1])"
   ]
  },
  {
   "cell_type": "code",
   "execution_count": 46,
   "metadata": {},
   "outputs": [],
   "source": [
    "#Fancy indexing\n",
    "# it allows us to index an array using another array, a list or a sequence  "
   ]
  },
  {
   "cell_type": "code",
   "execution_count": 47,
   "metadata": {},
   "outputs": [
    {
     "name": "stdout",
     "output_type": "stream",
     "text": [
      "[[ 0  1  2  3  4  5]\n",
      " [ 6  7  8  9 10 11]\n",
      " [12 13 14 15 16 17]\n",
      " [18 19 20 21 22 23]\n",
      " [24 25 26 27 28 29]\n",
      " [30 31 32 33 34 35]]\n",
      "\n",
      "first array:  [ 1  8 15 22 29]\n",
      "\n",
      "second array:\n",
      " [[18 20 23]\n",
      " [24 26 29]\n",
      " [30 32 35]]\n",
      "\n",
      "third array: [ 2 14 32]\n",
      "--------------------------------\n",
      "[1, 8, 15, 22, 29]\n"
     ]
    },
    {
     "data": {
      "text/plain": [
       "list"
      ]
     },
     "execution_count": 47,
     "metadata": {},
     "output_type": "execute_result"
    }
   ],
   "source": [
    "a = np.arange(36).reshape((6,6))\n",
    "print(a)\n",
    "\n",
    "print('\\nfirst array: ',a[(0,1,2,3,4),(1,2,3,4,5)])\n",
    "\n",
    "print('\\nsecond array:\\n',a[3:,[0,2,5]])\n",
    "\n",
    "bool1 = np.array([1,0,1,0,0,1],dtype=bool)\n",
    "print('\\nthird array:',a[bool1,2])\n",
    "print('--------------------------------')\n",
    "arr = []\n",
    "for i in range(0,5):\n",
    "    element = a[i,(i+1)]\n",
    "    arr.append(element)\n",
    "np.array(arr)\n",
    "print(arr)\n",
    "type(arr)"
   ]
  },
  {
   "cell_type": "code",
   "execution_count": 62,
   "metadata": {},
   "outputs": [
    {
     "name": "stdout",
     "output_type": "stream",
     "text": [
      "array:  [10  7  1  8  9  6  4  3  2]\n",
      "[ 1  2  3  4  6  7  8  9 10]\n",
      "[2 8 7 6 5 1 3 4 0]\n",
      "-------------------------------------\n",
      "[10  9  8  7  6  4  3  2  1]\n",
      "[0 4 3 1 5 6 7 8 2]\n"
     ]
    }
   ],
   "source": [
    "#sorting arrays\n",
    "#quick sort\n",
    "\n",
    "x = np.array([10,7,1,8,9,6,4,3,2])\n",
    "print('array: ', x)\n",
    "\n",
    "print(np.sort(x))\n",
    "print(np.argsort(x))\n",
    "print('-------------------------------------')\n",
    "print(x[np.argsort(-x)]) #ascending order or np.sort(x)[::-1]\n",
    "print(np.argsort(-x))"
   ]
  },
  {
   "cell_type": "code",
   "execution_count": 63,
   "metadata": {},
   "outputs": [
    {
     "data": {
      "text/plain": [
       "array([10,  9,  8,  7,  6,  4,  3,  2,  1])"
      ]
     },
     "execution_count": 63,
     "metadata": {},
     "output_type": "execute_result"
    }
   ],
   "source": [
    "np.sort(x)[::-1]"
   ]
  },
  {
   "cell_type": "code",
   "execution_count": 64,
   "metadata": {},
   "outputs": [
    {
     "name": "stdout",
     "output_type": "stream",
     "text": [
      "[[6 3 7 4 6 9]\n",
      " [2 6 7 4 3 7]\n",
      " [7 2 5 4 1 7]\n",
      " [5 1 4 0 9 5]]\n",
      "-------------sorting by column----------------\n",
      "[[2 1 4 0 1 5]\n",
      " [5 2 5 4 3 7]\n",
      " [6 3 7 4 6 7]\n",
      " [7 6 7 4 9 9]]\n",
      "-------------sorting by row----------------\n",
      "[[3 4 6 6 7 9]\n",
      " [2 3 4 6 7 7]\n",
      " [1 2 4 5 7 7]\n",
      " [0 1 4 5 5 9]]\n"
     ]
    }
   ],
   "source": [
    "#Sorting along rows or columns\n",
    "rand = np.random.RandomState(42)\n",
    "x = rand.randint(0,10,(4,6)) #In range of 0-10 integers it will create a 4X6 array\n",
    "print(x)\n",
    "print('-------------sorting by column----------------')\n",
    "print(np.sort(x, axis = 0)) #sorting of each column\n",
    "print('-------------sorting by row----------------')\n",
    "print(np.sort(x,axis=1)) #sorting of each row"
   ]
  },
  {
   "cell_type": "markdown",
   "metadata": {},
   "source": [
    "# $31-08-2023$"
   ]
  },
  {
   "cell_type": "code",
   "execution_count": 12,
   "metadata": {},
   "outputs": [
    {
     "name": "stdout",
     "output_type": "stream",
     "text": [
      "[('person_name', 'U9'), ('person_age', 'i8'), ('is_programmer', 'bool')]\n",
      "[('Ram', 25,  True) ('sita', 22, False) ('lakshman', 20, False)\n",
      " ('arjun', 30,  True)]\n"
     ]
    }
   ],
   "source": [
    "#Structured array:\n",
    "import numpy as np\n",
    "dtype = [('person_name','U9'),\n",
    "         ('person_age','i8'),\n",
    "         ('is_programmer', 'bool')]\n",
    "data = np.array([('Ram',25,True),\n",
    "                 ('sita',22,False),\n",
    "                 ('lakshman',20,False),\n",
    "                 ('arjun',30,True)],dtype = dtype)\n",
    "\n",
    "print(dtype)\n",
    "print(data)"
   ]
  },
  {
   "cell_type": "code",
   "execution_count": 13,
   "metadata": {},
   "outputs": [
    {
     "data": {
      "text/plain": [
       "array(['Ram', 'sita', 'lakshman', 'arjun'], dtype='<U9')"
      ]
     },
     "execution_count": 13,
     "metadata": {},
     "output_type": "execute_result"
    }
   ],
   "source": [
    "data['person_name'] # accessing columns or attributes in data base"
   ]
  },
  {
   "cell_type": "code",
   "execution_count": 5,
   "metadata": {},
   "outputs": [
    {
     "data": {
      "text/plain": [
       "('Ram', 25, True)"
      ]
     },
     "execution_count": 5,
     "metadata": {},
     "output_type": "execute_result"
    }
   ],
   "source": [
    "data[0] #accessing the rows or records"
   ]
  },
  {
   "cell_type": "code",
   "execution_count": 6,
   "metadata": {},
   "outputs": [
    {
     "data": {
      "text/plain": [
       "array([('lakshman', 20, False)],\n",
       "      dtype=[('person_name', '<U9'), ('person_age', '<i8'), ('is_programmer', '?')])"
      ]
     },
     "execution_count": 6,
     "metadata": {},
     "output_type": "execute_result"
    }
   ],
   "source": [
    "data[np.where(data['person_name'] == 'lakshman')] #returns only the data according to the person name only if it is lakshman"
   ]
  },
  {
   "cell_type": "code",
   "execution_count": 7,
   "metadata": {},
   "outputs": [
    {
     "name": "stdout",
     "output_type": "stream",
     "text": [
      "[('arjun', 30,  True) ('Ram', 25,  True) ('sita', 22, False)\n",
      " ('lakshman', 20, False)]\n"
     ]
    }
   ],
   "source": [
    "sorted_data = np.sort(data,order='person_age')[::-1] #sorts the whole dataset in the order of \n",
    "print(sorted_data)"
   ]
  },
  {
   "cell_type": "code",
   "execution_count": 8,
   "metadata": {},
   "outputs": [
    {
     "data": {
      "text/plain": [
       "array(['lakshman', 'arjun'], dtype='<U9')"
      ]
     },
     "execution_count": 8,
     "metadata": {},
     "output_type": "execute_result"
    }
   ],
   "source": [
    "data[-2:][\"person_name\"]"
   ]
  },
  {
   "cell_type": "code",
   "execution_count": 23,
   "metadata": {},
   "outputs": [
    {
     "name": "stdout",
     "output_type": "stream",
     "text": [
      "average_age =  24.25\n",
      "maximum_age =  30\n",
      "minimum_age =  20\n",
      "standard deviation =  3.766629793329841\n",
      "below 26 age =  [('Ram', 25,  True) ('sita', 22, False) ('lakshman', 20, False)]\n",
      "above 25 age =  [('arjun', 30,  True)]\n",
      "Know python =  [('Ram', 25,  True) ('arjun', 30,  True)]\n"
     ]
    }
   ],
   "source": [
    "# Aggregation:\n",
    "\n",
    "print(\"average_age = \",np.mean(data['person_age']))\n",
    "print(\"maximum_age = \",np.max(data['person_age']))\n",
    "print(\"minimum_age = \",np.min(data['person_age']))\n",
    "print('standard deviation = ',np.std(data['person_age']))\n",
    "\n",
    "#Filtering:\n",
    "a = data[data['person_age']<26]\n",
    "print('below 26 age = ',a)\n",
    "\n",
    "#above 25\n",
    "a = data[data['person_age']>25]\n",
    "print('above 25 age = ',a)\n",
    "\n",
    "#know python\n",
    "a = data[data['is_programmer'] == True]\n",
    "print('Know python = ',a)"
   ]
  },
  {
   "cell_type": "code",
   "execution_count": null,
   "metadata": {},
   "outputs": [],
   "source": []
  }
 ],
 "metadata": {
  "kernelspec": {
   "display_name": "Python 3",
   "language": "python",
   "name": "python3"
  },
  "language_info": {
   "codemirror_mode": {
    "name": "ipython",
    "version": 3
   },
   "file_extension": ".py",
   "mimetype": "text/x-python",
   "name": "python",
   "nbconvert_exporter": "python",
   "pygments_lexer": "ipython3",
   "version": "3.11.4"
  },
  "orig_nbformat": 4
 },
 "nbformat": 4,
 "nbformat_minor": 2
}
