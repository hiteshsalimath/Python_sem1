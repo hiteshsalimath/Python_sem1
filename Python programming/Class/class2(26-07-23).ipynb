{
 "cells": [
  {
   "cell_type": "code",
   "execution_count": 2,
   "metadata": {},
   "outputs": [
    {
     "data": {
      "text/plain": [
       "['__doc__',\n",
       " '__loader__',\n",
       " '__name__',\n",
       " '__package__',\n",
       " '__spec__',\n",
       " 'acos',\n",
       " 'acosh',\n",
       " 'asin',\n",
       " 'asinh',\n",
       " 'atan',\n",
       " 'atan2',\n",
       " 'atanh',\n",
       " 'ceil',\n",
       " 'comb',\n",
       " 'copysign',\n",
       " 'cos',\n",
       " 'cosh',\n",
       " 'degrees',\n",
       " 'dist',\n",
       " 'e',\n",
       " 'erf',\n",
       " 'erfc',\n",
       " 'exp',\n",
       " 'expm1',\n",
       " 'fabs',\n",
       " 'factorial',\n",
       " 'floor',\n",
       " 'fmod',\n",
       " 'frexp',\n",
       " 'fsum',\n",
       " 'gamma',\n",
       " 'gcd',\n",
       " 'hypot',\n",
       " 'inf',\n",
       " 'isclose',\n",
       " 'isfinite',\n",
       " 'isinf',\n",
       " 'isnan',\n",
       " 'isqrt',\n",
       " 'lcm',\n",
       " 'ldexp',\n",
       " 'lgamma',\n",
       " 'log',\n",
       " 'log10',\n",
       " 'log1p',\n",
       " 'log2',\n",
       " 'modf',\n",
       " 'nan',\n",
       " 'nextafter',\n",
       " 'perm',\n",
       " 'pi',\n",
       " 'pow',\n",
       " 'prod',\n",
       " 'radians',\n",
       " 'remainder',\n",
       " 'sin',\n",
       " 'sinh',\n",
       " 'sqrt',\n",
       " 'tan',\n",
       " 'tanh',\n",
       " 'tau',\n",
       " 'trunc',\n",
       " 'ulp']"
      ]
     },
     "execution_count": 2,
     "metadata": {},
     "output_type": "execute_result"
    }
   ],
   "source": [
    "import math\n",
    "dir(math)"
   ]
  },
  {
   "cell_type": "code",
   "execution_count": 3,
   "metadata": {},
   "outputs": [
    {
     "data": {
      "text/plain": [
       "['__doc__',\n",
       " '__loader__',\n",
       " '__name__',\n",
       " '__package__',\n",
       " '__spec__',\n",
       " 'acos',\n",
       " 'acosh',\n",
       " 'asin',\n",
       " 'asinh',\n",
       " 'atan',\n",
       " 'atanh',\n",
       " 'cos',\n",
       " 'cosh',\n",
       " 'e',\n",
       " 'exp',\n",
       " 'inf',\n",
       " 'infj',\n",
       " 'isclose',\n",
       " 'isfinite',\n",
       " 'isinf',\n",
       " 'isnan',\n",
       " 'log',\n",
       " 'log10',\n",
       " 'nan',\n",
       " 'nanj',\n",
       " 'phase',\n",
       " 'pi',\n",
       " 'polar',\n",
       " 'rect',\n",
       " 'sin',\n",
       " 'sinh',\n",
       " 'sqrt',\n",
       " 'tan',\n",
       " 'tanh',\n",
       " 'tau']"
      ]
     },
     "execution_count": 3,
     "metadata": {},
     "output_type": "execute_result"
    }
   ],
   "source": [
    "import cmath \n",
    "dir(cmath)"
   ]
  },
  {
   "cell_type": "code",
   "execution_count": 11,
   "metadata": {},
   "outputs": [
    {
     "data": {
      "text/plain": [
       "['BPF',\n",
       " 'LOG4',\n",
       " 'NV_MAGICCONST',\n",
       " 'RECIP_BPF',\n",
       " 'Random',\n",
       " 'SG_MAGICCONST',\n",
       " 'SystemRandom',\n",
       " 'TWOPI',\n",
       " '_Sequence',\n",
       " '_Set',\n",
       " '__all__',\n",
       " '__builtins__',\n",
       " '__cached__',\n",
       " '__doc__',\n",
       " '__file__',\n",
       " '__loader__',\n",
       " '__name__',\n",
       " '__package__',\n",
       " '__spec__',\n",
       " '_accumulate',\n",
       " '_acos',\n",
       " '_bisect',\n",
       " '_ceil',\n",
       " '_cos',\n",
       " '_e',\n",
       " '_exp',\n",
       " '_floor',\n",
       " '_inst',\n",
       " '_log',\n",
       " '_os',\n",
       " '_pi',\n",
       " '_random',\n",
       " '_repeat',\n",
       " '_sha512',\n",
       " '_sin',\n",
       " '_sqrt',\n",
       " '_test',\n",
       " '_test_generator',\n",
       " '_urandom',\n",
       " '_warn',\n",
       " 'betavariate',\n",
       " 'choice',\n",
       " 'choices',\n",
       " 'expovariate',\n",
       " 'gammavariate',\n",
       " 'gauss',\n",
       " 'getrandbits',\n",
       " 'getstate',\n",
       " 'lognormvariate',\n",
       " 'normalvariate',\n",
       " 'paretovariate',\n",
       " 'randbytes',\n",
       " 'randint',\n",
       " 'random',\n",
       " 'randrange',\n",
       " 'sample',\n",
       " 'seed',\n",
       " 'setstate',\n",
       " 'shuffle',\n",
       " 'triangular',\n",
       " 'uniform',\n",
       " 'vonmisesvariate',\n",
       " 'weibullvariate']"
      ]
     },
     "execution_count": 11,
     "metadata": {},
     "output_type": "execute_result"
    }
   ],
   "source": [
    "import random\n",
    "random.random()\n",
    "dir(random)"
   ]
  },
  {
   "cell_type": "code",
   "execution_count": 17,
   "metadata": {},
   "outputs": [
    {
     "data": {
      "text/plain": [
       "99.86924095974067"
      ]
     },
     "execution_count": 17,
     "metadata": {},
     "output_type": "execute_result"
    }
   ],
   "source": [
    "random.uniform(50,100)"
   ]
  },
  {
   "cell_type": "code",
   "execution_count": 13,
   "metadata": {},
   "outputs": [
    {
     "data": {
      "text/plain": [
       "79.0"
      ]
     },
     "execution_count": 13,
     "metadata": {},
     "output_type": "execute_result"
    }
   ],
   "source": [
    "x = random.randint(0,100)\n",
    "float(x)"
   ]
  },
  {
   "cell_type": "code",
   "execution_count": 9,
   "metadata": {},
   "outputs": [
    {
     "data": {
      "text/plain": [
       "True"
      ]
     },
     "execution_count": 9,
     "metadata": {},
     "output_type": "execute_result"
    }
   ],
   "source": [
    "2.0 in [1,2,3]"
   ]
  },
  {
   "cell_type": "code",
   "execution_count": 18,
   "metadata": {},
   "outputs": [
    {
     "data": {
      "text/plain": [
       "6"
      ]
     },
     "execution_count": 18,
     "metadata": {},
     "output_type": "execute_result"
    }
   ],
   "source": [
    "1+3*2-5+4"
   ]
  },
  {
   "cell_type": "code",
   "execution_count": 19,
   "metadata": {},
   "outputs": [
    {
     "data": {
      "text/plain": [
       "-4"
      ]
     },
     "execution_count": 19,
     "metadata": {},
     "output_type": "execute_result"
    }
   ],
   "source": [
    "1+3*(2-5)+4"
   ]
  },
  {
   "cell_type": "code",
   "execution_count": 21,
   "metadata": {},
   "outputs": [
    {
     "data": {
      "text/plain": [
       "1876"
      ]
     },
     "execution_count": 21,
     "metadata": {},
     "output_type": "execute_result"
    }
   ],
   "source": [
    "5**2**2*3+1"
   ]
  },
  {
   "cell_type": "code",
   "execution_count": 22,
   "metadata": {},
   "outputs": [
    {
     "data": {
      "text/plain": [
       "1876"
      ]
     },
     "execution_count": 22,
     "metadata": {},
     "output_type": "execute_result"
    }
   ],
   "source": [
    "5**(2**2)*3+1"
   ]
  },
  {
   "cell_type": "code",
   "execution_count": 23,
   "metadata": {},
   "outputs": [
    {
     "data": {
      "text/plain": [
       "2.5"
      ]
     },
     "execution_count": 23,
     "metadata": {},
     "output_type": "execute_result"
    }
   ],
   "source": [
    "1+3/2"
   ]
  },
  {
   "cell_type": "code",
   "execution_count": 20,
   "metadata": {},
   "outputs": [
    {
     "data": {
      "text/plain": [
       "0"
      ]
     },
     "execution_count": 20,
     "metadata": {},
     "output_type": "execute_result"
    }
   ],
   "source": [
    "x = int(input('x value')) #x=5\n",
    "x**2-7*x+10"
   ]
  },
  {
   "cell_type": "code",
   "execution_count": 25,
   "metadata": {},
   "outputs": [
    {
     "data": {
      "text/plain": [
       "0.5984721441039564"
      ]
     },
     "execution_count": 25,
     "metadata": {},
     "output_type": "execute_result"
    }
   ],
   "source": [
    "import math\n",
    "math.sin(2.5)"
   ]
  },
  {
   "cell_type": "code",
   "execution_count": 38,
   "metadata": {},
   "outputs": [
    {
     "name": "stdout",
     "output_type": "stream",
     "text": [
      "celcius = 22.33 celcius is\n",
      "72.19399999999999 Fahrenheit\n"
     ]
    }
   ],
   "source": [
    "#celcius to Fahrenheit\n",
    "\n",
    "celcius = float(input(\"Enter the temperature in Celcius: \"))\n",
    "\n",
    "fahrenheit = (celcius * 1.8) + 32\n",
    "print(celcius,\"celcius is\")\n",
    "print(fahrenheit, \"Fahrenheit\")"
   ]
  },
  {
   "cell_type": "code",
   "execution_count": 41,
   "metadata": {},
   "outputs": [
    {
     "name": "stdout",
     "output_type": "stream",
     "text": [
      "fahrenheit =  123.23 fahrenheit is equal to 50.68333333333334 celcius\n"
     ]
    }
   ],
   "source": [
    "F = float(input(\"Enter the temperature in fahrenheit\"))\n",
    "\n",
    "C = (F - 32)/1.8\n",
    "print('fahrenheit = ',F,'fahrenheit is equal to',C, 'celcius')"
   ]
  },
  {
   "cell_type": "code",
   "execution_count": 50,
   "metadata": {},
   "outputs": [
    {
     "name": "stdout",
     "output_type": "stream",
     "text": [
      "Hiteshsalimath\n",
      "HiteshHitesh\n",
      "tes\n",
      "limath\n"
     ]
    }
   ],
   "source": [
    "x = 'Hitesh'\n",
    "y = 'salimath'\n",
    "\n",
    "a= x+y\n",
    "print(a)\n",
    "b = x*2\n",
    "print(b)\n",
    "print(x[2:5])\n",
    "print(y[-6:8])"
   ]
  },
  {
   "cell_type": "code",
   "execution_count": 12,
   "metadata": {},
   "outputs": [
    {
     "name": "stdout",
     "output_type": "stream",
     "text": [
      "0\n",
      "1\n",
      "2\n",
      "3\n",
      "4\n",
      "Done with i =  5\n"
     ]
    }
   ],
   "source": [
    "i = 0\n",
    "while i<5:\n",
    "    print(i)\n",
    "    i+=1 #add 1 to value of i and save the output back to variable i\n",
    "else:\n",
    "    print('Done with i = ',i)"
   ]
  },
  {
   "cell_type": "code",
   "execution_count": 36,
   "metadata": {},
   "outputs": [],
   "source": [
    "import random \n",
    "\n",
    "\n",
    "while (guess != rno):\n",
    "    rno = random.randint(0,100)\n",
    "    guess = int(input(\"your guess is: \"))\n",
    "    \n",
    "    if guess > rno:\n",
    "        print('your guess is more for',rno)\n",
    "    elif guess < rno:\n",
    "        print('your guess is less for',rno)\n",
    "    elif guess == rno:\n",
    "        print('Congratulations! your guess is correct for',rno)"
   ]
  },
  {
   "cell_type": "markdown",
   "metadata": {},
   "source": [
    "## 27-07-2023"
   ]
  },
  {
   "cell_type": "code",
   "execution_count": 17,
   "metadata": {},
   "outputs": [
    {
     "name": "stdout",
     "output_type": "stream",
     "text": [
      "atalseva\n",
      "('vayu', 'vajra', 'pushpaka', 'ordiary')\n",
      "('pushpaka', 'ordiary', 'samruddhi', 'janapriya', 'atalseva')\n",
      "('pushpaka', 'ordiary', 'samruddhi', 'janapriya')\n",
      "()\n",
      "('401M', '401K', '401R', '401B', '502H', '226M')\n",
      "('401M', '401K', '401R', '401B', '502H', '226M', '226N')\n",
      "('monthly', 'daily', 'student', 'anual', 'staff')\n",
      "('monthly', 'daily', 'student', 'anual')\n"
     ]
    }
   ],
   "source": [
    "#DATA TYPES\n",
    "bus = ('vayu' , 'vajra', 'pushpaka', 'ordiary','samruddhi','janapriya','atalseva')\n",
    "routes = ('401M' , '401K','401R','401B','502H','226M' , '226N')\n",
    "passes = ('monthly','daily', 'student','anual','staff')\n",
    "pass_price = (1100,70,1850,2500,50)\n",
    "\n",
    "\n",
    "print(bus[-1])\n",
    "print(bus[0:4])\n",
    "print(bus[2:])\n",
    "print(bus[-5:-1])\n",
    "print(bus[5:5])\n",
    "print(routes[:6])\n",
    "print(routes[0:])\n",
    "print(passes[0:])\n",
    "print(passes[:-1])\n"
   ]
  },
  {
   "cell_type": "code",
   "execution_count": 29,
   "metadata": {},
   "outputs": [
    {
     "name": "stdout",
     "output_type": "stream",
     "text": [
      "The required pass is  student\n",
      "yes, student passes are available\n"
     ]
    }
   ],
   "source": [
    "check_passes = (input(\"Enter the type of pass required: \"))\n",
    "print('The required pass is ', check_passes)\n",
    "if check_passes in passes:\n",
    "    print('yes,', check_passes, 'passes are available')\n",
    "else:\n",
    "    print('no,' , check_passes, 'passes are not available')"
   ]
  },
  {
   "cell_type": "code",
   "execution_count": 27,
   "metadata": {},
   "outputs": [
    {
     "name": "stdout",
     "output_type": "stream",
     "text": [
      "1770429120400\n",
      "1770427999136\n",
      "1770458593888\n",
      "1770459057824\n"
     ]
    }
   ],
   "source": [
    "# all the tuples are assigned unique id value, for all the objects\n",
    "print(id(passes))\n",
    "print(id(bus))\n",
    "print(id(routes))\n",
    "print(id(pass_price))"
   ]
  },
  {
   "cell_type": "code",
   "execution_count": 42,
   "metadata": {},
   "outputs": [
    {
     "name": "stdout",
     "output_type": "stream",
     "text": [
      "('monthly', 'daily', 'student', 'anual', 'staff', 1100, 70, 1850, 2500, 50)\n",
      "(1100, 70, 1850, 2500, 50, 1100, 70, 1850, 2500, 50)\n",
      "10\n",
      "2500\n",
      "5570\n",
      "2500\n"
     ]
    },
    {
     "ename": "NameError",
     "evalue": "name 'pass_det' is not defined",
     "output_type": "error",
     "traceback": [
      "\u001b[1;31m---------------------------------------------------------------------------\u001b[0m",
      "\u001b[1;31mNameError\u001b[0m                                 Traceback (most recent call last)",
      "\u001b[1;32m~\\AppData\\Local\\Temp\\ipykernel_1848\\775930475.py\u001b[0m in \u001b[0;36m<module>\u001b[1;34m\u001b[0m\n\u001b[0;32m      7\u001b[0m \u001b[0mprint\u001b[0m\u001b[1;33m(\u001b[0m\u001b[0mmax\u001b[0m\u001b[1;33m(\u001b[0m\u001b[0mpass_price\u001b[0m\u001b[1;33m)\u001b[0m\u001b[1;33m)\u001b[0m\u001b[1;33m\u001b[0m\u001b[1;33m\u001b[0m\u001b[0m\n\u001b[0;32m      8\u001b[0m \u001b[1;32mdel\u001b[0m \u001b[0mpass_det\u001b[0m\u001b[1;33m\u001b[0m\u001b[1;33m\u001b[0m\u001b[0m\n\u001b[1;32m----> 9\u001b[1;33m \u001b[0mprint\u001b[0m\u001b[1;33m(\u001b[0m\u001b[0mid\u001b[0m\u001b[1;33m(\u001b[0m\u001b[0mpass_det\u001b[0m\u001b[1;33m)\u001b[0m\u001b[1;33m)\u001b[0m\u001b[1;33m\u001b[0m\u001b[1;33m\u001b[0m\u001b[0m\n\u001b[0m",
      "\u001b[1;31mNameError\u001b[0m: name 'pass_det' is not defined"
     ]
    }
   ],
   "source": [
    "pass_det = passes + pass_price # concatinates and saves to the assigned variable\n",
    "print(pass_det)\n",
    "print(pass_price*2)\n",
    "print(len(pass_det))\n",
    "print(pass_price[-2])\n",
    "print(sum(pass_price))\n",
    "print(max(pass_price))\n",
    "del pass_det\n",
    "print(id(pass_det)) # once deleted evn the id will be removed"
   ]
  },
  {
   "cell_type": "code",
   "execution_count": 43,
   "metadata": {},
   "outputs": [
    {
     "name": "stdout",
     "output_type": "stream",
     "text": [
      "(1100, 70, 1850, 2500, 50)\n",
      "5570\n"
     ]
    }
   ],
   "source": [
    "print(pass_price)\n",
    "s = 0\n",
    "for a in pass_price:\n",
    "    s+=a\n",
    "print(s)"
   ]
  },
  {
   "cell_type": "code",
   "execution_count": 48,
   "metadata": {},
   "outputs": [
    {
     "name": "stdout",
     "output_type": "stream",
     "text": [
      "3\n",
      "5\n",
      "7\n",
      "9\n",
      "11\n",
      "13\n",
      "15\n",
      "17\n",
      "19\n",
      "<class 'range'>\n"
     ]
    }
   ],
   "source": [
    "#range\n",
    "\n",
    "x = range(3,20,2) #range of values between 3 and 20 with a step size of 2\n",
    "\n",
    "for i in x:\n",
    "    print(i)\n",
    "print(type(x))"
   ]
  },
  {
   "cell_type": "code",
   "execution_count": 52,
   "metadata": {},
   "outputs": [
    {
     "name": "stdout",
     "output_type": "stream",
     "text": [
      "('monthly', 'daily', 'student', 'anual', 'staff')\n",
      "('monthly', 'daily', 'student', 'anual', 'staff')\n",
      "monthly\n",
      "('monthly', 'daily', 'student', 'anual', 'staff')\n",
      "daily\n",
      "('monthly', 'daily', 'student', 'anual', 'staff')\n",
      "student\n",
      "('monthly', 'daily', 'student', 'anual', 'staff')\n",
      "anual\n",
      "('monthly', 'daily', 'student', 'anual', 'staff')\n",
      "staff\n"
     ]
    }
   ],
   "source": [
    "print(passes)\n",
    "\n",
    "for i in passes:\n",
    "    print(passes)\n",
    "    print(i)"
   ]
  },
  {
   "cell_type": "markdown",
   "metadata": {},
   "source": [
    "# LIST[]\n",
    "\n",
    "> Tuples are immutable and lists are mutable.\n",
    "> Tuples occupy more memory since the are immutable whereas lists are mutable and use lesser memory.\n",
    "\n",
    "$Functions$\n",
    "\n",
    "append(): adds elements to a list\n",
    "\n",
    "clear(): removes all the elements from a list\n",
    "\n",
    "copy()\": returns a copy of the list\n",
    "\n",
    "count(): returns the number of elements in the list\n",
    "\n",
    "extend(): add the elements of a list to the existing list\n",
    "\n",
    "remove(): removes all the elements from a list or a particular element  of a list\n",
    "\n",
    "index()\n",
    "\n",
    "insert()\n",
    "\n",
    "pop()\n",
    "\n",
    "remove()\n",
    "\n",
    "reverse()\n",
    "\n",
    "sort()\n",
    "\n"
   ]
  },
  {
   "cell_type": "code",
   "execution_count": 73,
   "metadata": {},
   "outputs": [
    {
     "name": "stdout",
     "output_type": "stream",
     "text": [
      "['vayu', 'vajra', 'pushpaka', 'ordiary', 'samruddhi', 'janapriya', 'atalseva']\n",
      "['401M', '401K', '401R', '401B', '502H', '226M', '226N']\n",
      "['monthly', 'daily', 'student', 'anual', 'staff']\n",
      "[1100, 70, 1850, 2500, 50]\n"
     ]
    }
   ],
   "source": [
    "bus = ['vayu' , 'vajra', 'pushpaka', 'ordiary','samruddhi','janapriya','atalseva']\n",
    "routes = ['401M' , '401K','401R','401B','502H','226M' , '226N']\n",
    "passes = ['monthly','daily', 'student','anual','staff']\n",
    "pass_price = [1100,70,1850,2500,50]\n",
    "\n",
    "print(bus)\n",
    "print(routes)\n",
    "print(passes)\n",
    "print(pass_price)"
   ]
  },
  {
   "cell_type": "code",
   "execution_count": 62,
   "metadata": {},
   "outputs": [
    {
     "name": "stdout",
     "output_type": "stream",
     "text": [
      "['401M', '401K', '401R', '401B', '502H', '226M', '226N', '285M', '285M']\n"
     ]
    }
   ],
   "source": [
    "routes.append('285M') # adds a particular element to the list assigned\n",
    "print(routes)"
   ]
  },
  {
   "cell_type": "code",
   "execution_count": 63,
   "metadata": {},
   "outputs": [
    {
     "name": "stdout",
     "output_type": "stream",
     "text": [
      "[]\n"
     ]
    }
   ],
   "source": [
    "bus.clear() # clears the complete list of bus\n",
    "print(bus)"
   ]
  },
  {
   "cell_type": "code",
   "execution_count": 68,
   "metadata": {},
   "outputs": [
    {
     "data": {
      "text/plain": [
       "1"
      ]
     },
     "execution_count": 68,
     "metadata": {},
     "output_type": "execute_result"
    }
   ],
   "source": [
    "passes.count('student') #only conts the repeated elements in the list\n"
   ]
  },
  {
   "cell_type": "code",
   "execution_count": 78,
   "metadata": {},
   "outputs": [
    {
     "name": "stdout",
     "output_type": "stream",
     "text": [
      "['monthly', 'daily', 'student', 'anual', 'staff', 1100, 70, 1850, 2500, 50]\n"
     ]
    }
   ],
   "source": [
    "passes = ['monthly','daily', 'student','anual','staff']\n",
    "pass_price = [1100,70,1850,2500,50]\n",
    "\n",
    "passes.extend(pass_price)\n",
    "print(passes)"
   ]
  },
  {
   "cell_type": "code",
   "execution_count": 84,
   "metadata": {},
   "outputs": [
    {
     "ename": "ValueError",
     "evalue": "list.remove(x): x not in list",
     "output_type": "error",
     "traceback": [
      "\u001b[1;31m---------------------------------------------------------------------------\u001b[0m",
      "\u001b[1;31mValueError\u001b[0m                                Traceback (most recent call last)",
      "\u001b[1;32m~\\AppData\\Local\\Temp\\ipykernel_1848\\2161325822.py\u001b[0m in \u001b[0;36m<module>\u001b[1;34m\u001b[0m\n\u001b[1;32m----> 1\u001b[1;33m \u001b[0mpasses\u001b[0m\u001b[1;33m.\u001b[0m\u001b[0mremove\u001b[0m\u001b[1;33m(\u001b[0m\u001b[1;36m1100\u001b[0m\u001b[1;33m)\u001b[0m\u001b[1;33m\u001b[0m\u001b[1;33m\u001b[0m\u001b[0m\n\u001b[0m\u001b[0;32m      2\u001b[0m \u001b[0mprint\u001b[0m\u001b[1;33m(\u001b[0m\u001b[0mpasses\u001b[0m\u001b[1;33m)\u001b[0m\u001b[1;33m\u001b[0m\u001b[1;33m\u001b[0m\u001b[0m\n\u001b[0;32m      3\u001b[0m \u001b[0mpasses\u001b[0m\u001b[1;33m.\u001b[0m\u001b[0mremove\u001b[0m\u001b[1;33m(\u001b[0m\u001b[1;36m70\u001b[0m\u001b[1;33m,\u001b[0m\u001b[1;36m1850\u001b[0m\u001b[1;33m)\u001b[0m\u001b[1;33m\u001b[0m\u001b[1;33m\u001b[0m\u001b[0m\n\u001b[0;32m      4\u001b[0m \u001b[0mprint\u001b[0m\u001b[1;33m(\u001b[0m\u001b[0mpasses\u001b[0m\u001b[1;33m)\u001b[0m\u001b[1;33m\u001b[0m\u001b[1;33m\u001b[0m\u001b[0m\n",
      "\u001b[1;31mValueError\u001b[0m: list.remove(x): x not in list"
     ]
    }
   ],
   "source": [
    "passes.remove(1100)\n",
    "print(passes)"
   ]
  },
  {
   "cell_type": "code",
   "execution_count": 85,
   "metadata": {},
   "outputs": [
    {
     "ename": "TypeError",
     "evalue": "list.remove() takes exactly one argument (2 given)",
     "output_type": "error",
     "traceback": [
      "\u001b[1;31m---------------------------------------------------------------------------\u001b[0m",
      "\u001b[1;31mTypeError\u001b[0m                                 Traceback (most recent call last)",
      "\u001b[1;32m~\\AppData\\Local\\Temp\\ipykernel_1848\\921666846.py\u001b[0m in \u001b[0;36m<module>\u001b[1;34m\u001b[0m\n\u001b[1;32m----> 1\u001b[1;33m \u001b[0mpasses\u001b[0m\u001b[1;33m.\u001b[0m\u001b[0mremove\u001b[0m\u001b[1;33m(\u001b[0m\u001b[1;36m70\u001b[0m\u001b[1;33m,\u001b[0m\u001b[1;36m1850\u001b[0m\u001b[1;33m)\u001b[0m\u001b[1;33m\u001b[0m\u001b[1;33m\u001b[0m\u001b[0m\n\u001b[0m\u001b[0;32m      2\u001b[0m \u001b[0mprint\u001b[0m\u001b[1;33m(\u001b[0m\u001b[0mpasses\u001b[0m\u001b[1;33m)\u001b[0m\u001b[1;33m\u001b[0m\u001b[1;33m\u001b[0m\u001b[0m\n",
      "\u001b[1;31mTypeError\u001b[0m: list.remove() takes exactly one argument (2 given)"
     ]
    }
   ],
   "source": [
    "passes.remove(70,1850)\n",
    "print(passes)"
   ]
  },
  {
   "cell_type": "markdown",
   "metadata": {},
   "source": [
    "# FUNCTIONS (def)\n",
    "\n",
    "  "
   ]
  },
  {
   "cell_type": "code",
   "execution_count": 8,
   "metadata": {},
   "outputs": [
    {
     "data": {
      "text/plain": [
       "9"
      ]
     },
     "execution_count": 8,
     "metadata": {},
     "output_type": "execute_result"
    }
   ],
   "source": [
    "def f(x, y):\n",
    "    z = 2*y\n",
    "    return x+z\n",
    "f(1,4) "
   ]
  },
  {
   "cell_type": "code",
   "execution_count": 10,
   "metadata": {},
   "outputs": [
    {
     "name": "stdout",
     "output_type": "stream",
     "text": [
      "hw\n",
      "hw\n"
     ]
    },
    {
     "data": {
      "text/plain": [
       "3"
      ]
     },
     "execution_count": 10,
     "metadata": {},
     "output_type": "execute_result"
    }
   ],
   "source": [
    "def g():\n",
    "    print(\"hw\")\n",
    "    return 1\n",
    "g() + g() + 1 #sice g is ased to retur 1 it gives the addition of 1+1+1 ie 3"
   ]
  },
  {
   "cell_type": "code",
   "execution_count": 15,
   "metadata": {},
   "outputs": [],
   "source": [
    "def sum(a=0,b=0,c=0):\n",
    "    return a+b+c"
   ]
  },
  {
   "cell_type": "code",
   "execution_count": 17,
   "metadata": {},
   "outputs": [
    {
     "data": {
      "text/plain": [
       "0"
      ]
     },
     "execution_count": 17,
     "metadata": {},
     "output_type": "execute_result"
    }
   ],
   "source": [
    "#sum(1,2)\n",
    "sum()\n",
    "#sum(1,2,a=3) #a is assigned twice therefore error"
   ]
  },
  {
   "cell_type": "code",
   "execution_count": 18,
   "metadata": {},
   "outputs": [
    {
     "name": "stdout",
     "output_type": "stream",
     "text": [
      "The youngest child is:  a\n"
     ]
    }
   ],
   "source": [
    "#arbitary arguments\n",
    "def myfun(*kids):             #By using * it considers the set\n",
    "    print(\"The youngest child is: \",kids[2])\n",
    "myfun(1,2,'a',3)"
   ]
  },
  {
   "cell_type": "code",
   "execution_count": 21,
   "metadata": {},
   "outputs": [
    {
     "name": "stdout",
     "output_type": "stream",
     "text": [
      "last name isDeemed\n"
     ]
    }
   ],
   "source": [
    "#number of keyword arguments is unknown\n",
    "\n",
    "def myfun(**student):\n",
    "    print(\"last name is\" + student[\"kname\"])\n",
    "\n",
    "myfun(fname = \"chhrist\", lname = \"university\", kname = \"Deemed\")"
   ]
  },
  {
   "cell_type": "code",
   "execution_count": null,
   "metadata": {},
   "outputs": [],
   "source": [
    "def mfun(x):\n",
    "    return x==2\n",
    "\n",
    "print()"
   ]
  }
 ],
 "metadata": {
  "kernelspec": {
   "display_name": "base",
   "language": "python",
   "name": "python3"
  },
  "language_info": {
   "codemirror_mode": {
    "name": "ipython",
    "version": 3
   },
   "file_extension": ".py",
   "mimetype": "text/x-python",
   "name": "python",
   "nbconvert_exporter": "python",
   "pygments_lexer": "ipython3",
   "version": "3.9.13"
  },
  "orig_nbformat": 4
 },
 "nbformat": 4,
 "nbformat_minor": 2
}
