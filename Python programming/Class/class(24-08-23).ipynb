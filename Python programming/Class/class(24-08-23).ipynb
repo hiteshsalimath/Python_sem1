{
 "cells": [
  {
   "cell_type": "markdown",
   "metadata": {},
   "source": [
    "# Regular expressions\n",
    "\n",
    "1. Used to deal with next data.\n",
    "\n",
    "2. Application in Natural Language processing.\n",
    "\n",
    "3. pattern validation in forms\n",
    "\n",
    "syntax and function:\n",
    "\n",
    "1. import re\n",
    "\n",
    "2. re.match(): used to return a string present\n",
    "\n",
    "3. re.search()\n",
    "\n",
    "4. re.findall()\n",
    "\n",
    "5. re.split():\n",
    "\n",
    "6. re.sub():"
   ]
  },
  {
   "cell_type": "code",
   "execution_count": 11,
   "metadata": {},
   "outputs": [
    {
     "name": "stdout",
     "output_type": "stream",
     "text": [
      "<re.Match object; span=(0, 2), match='We'>\n",
      "<re.Match object; span=(12, 14), match='he'>\n",
      "(12, 14)\n",
      "Welcome to the re module\n",
      "he\n",
      "['Welcome to t', ' re module']\n",
      "Welcome to they re module\n"
     ]
    }
   ],
   "source": [
    "import re\n",
    "\n",
    "#methods\n",
    "text = \"Welcome to the re module\"\n",
    "\n",
    "# match1 = re.match(\"The\", text) # since the is present in middle so it will return none\n",
    "match1 = re.match(\"We\", text)\n",
    "print(match1)\n",
    "\n",
    "search1 = re.search(\"he\",text)\n",
    "print(search1)\n",
    "print(search1.span()) # gives us the position on the string it is attribute of search\n",
    "print(search1.string)\n",
    "\n",
    "print(search1.group()) #\n",
    "\n",
    "# fall1 = re.findall(\"he\",text)\n",
    "# print(fall1)\n",
    "\n",
    "split1 = re.split(\"he\",text) #this will split the data te 2 different items\n",
    "print(split1)\n",
    "\n",
    "sub1 = re.sub(\"he\", \"hey\", text)\n",
    "print(sub1)\n"
   ]
  },
  {
   "cell_type": "markdown",
   "metadata": {},
   "source": [
    "## Meta characters:\n",
    "\n",
    "[]: A ste of characters\n",
    "\n",
    "\\ : escape character(signals a special sequence)\n",
    "\n",
    ".: any character\n",
    "\n",
    "^ : Verifyies the very first character in the entier text\n",
    "\n",
    "$ : verifies the ending of the entire occurance\n",
    "\n",
    "* : zero or more occurance\n",
    "\n",
    "+: one or more occurance\n",
    "\n",
    "?: zero or one occurance\n",
    "\n",
    "'{}': Exactly the specified number of occurance\n",
    "\n",
    "|\n",
    "\n"
   ]
  },
  {
   "cell_type": "code",
   "execution_count": 15,
   "metadata": {},
   "outputs": [
    {
     "name": "stdout",
     "output_type": "stream",
     "text": [
      "['o', 'o', 'o', 'd', 'u', 'o', 'o', 'u', 'o', 'd', 'u', 'o', 'o', 'd']\n",
      "['2', '3', '2', '0', '2', '3']\n"
     ]
    }
   ],
   "source": [
    "# Meta characters:\n",
    "txt = \"welcome to the re module or concept 23 Aug 2023 module moodle\"\n",
    "\n",
    "search2 = re.findall(\"[odu]\",txt) # any one of the element can be considered in the square bracket\n",
    "print(search2)\n",
    "\n",
    "search3 = re.findall(\"\\d\",txt) #returns only the digits in the string\n",
    "print(search3)"
   ]
  },
  {
   "cell_type": "code",
   "execution_count": null,
   "metadata": {},
   "outputs": [],
   "source": [
    "txt1 = \"welcome to the re module or concept 23 Aug 2023 module moodle moduile\"\n",
    "\n",
    "search4 = re.findall(\"mo.*le\",txt1) #cosiders 0 or more chr\n",
    "search5 = re.findall(\"mo.?ule\",txt1)\n",
    "search6 = re.findall(\"mo.+le\",txt1) #cosiders 1 or more chr\n",
    "search7 = re.findall(r\"mo.{3}le\",txt1)\n"
   ]
  }
 ],
 "metadata": {
  "kernelspec": {
   "display_name": "Python 3",
   "language": "python",
   "name": "python3"
  },
  "language_info": {
   "codemirror_mode": {
    "name": "ipython",
    "version": 3
   },
   "file_extension": ".py",
   "mimetype": "text/x-python",
   "name": "python",
   "nbconvert_exporter": "python",
   "pygments_lexer": "ipython3",
   "version": "3.11.4"
  },
  "orig_nbformat": 4
 },
 "nbformat": 4,
 "nbformat_minor": 2
}
