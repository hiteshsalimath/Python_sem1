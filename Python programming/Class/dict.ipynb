{
 "cells": [
  {
   "cell_type": "code",
   "execution_count": 1,
   "metadata": {},
   "outputs": [
    {
     "name": "stdout",
     "output_type": "stream",
     "text": [
      "{'Ethernet0': ['1.1.1.1', 'up'], 'Ethernet1': ['2.2.2.2', 'down'], 'serial0': ['3.3.3.3', 'up'], 'serial1': ['4.4.4.4', 'up']}\n"
     ]
    }
   ],
   "source": [
    "script = {\"Ethernet0\":[\"1.1.1.1\",\"up\"] ,\n",
    "          \"Ethernet1\":[\"2.2.2.2\",\"down\"] ,\n",
    "          \"serial0\":[\"3.3.3.3\",\"up\"],\n",
    "          \"serial1\":[\"4.4.4.4\",\"up\"]}\n",
    "print(script)\n",
    "\n",
    "#?print status of a given interface.\n",
    "#?print all the interface and IP whose status is up.\n",
    "#?Give the count of ethernet interface."
   ]
  },
  {
   "cell_type": "code",
   "execution_count": 3,
   "metadata": {},
   "outputs": [
    {
     "name": "stdout",
     "output_type": "stream",
     "text": [
      "Interface =  Ethernet1\n",
      "Status =  down\n"
     ]
    }
   ],
   "source": [
    "#p1\n",
    "interface = input(\"Enter the interface status required: \")\n",
    "print(\"Interface = \",interface)\n",
    "if(script.__contains__(interface)):\n",
    "    print(\"Status = \",script[interface][1])\n",
    "else:\n",
    "    print(\"Status = Interface not found\")"
   ]
  },
  {
   "cell_type": "code",
   "execution_count": null,
   "metadata": {},
   "outputs": [],
   "source": [
    "#p2\n",
    "status = input(\"Enter the status: \")\n"
   ]
  },
  {
   "cell_type": "markdown",
   "metadata": {},
   "source": []
  }
 ],
 "metadata": {
  "kernelspec": {
   "display_name": "base",
   "language": "python",
   "name": "python3"
  },
  "language_info": {
   "codemirror_mode": {
    "name": "ipython",
    "version": 3
   },
   "file_extension": ".py",
   "mimetype": "text/x-python",
   "name": "python",
   "nbconvert_exporter": "python",
   "pygments_lexer": "ipython3",
   "version": "3.9.13"
  },
  "orig_nbformat": 4
 },
 "nbformat": 4,
 "nbformat_minor": 2
}
