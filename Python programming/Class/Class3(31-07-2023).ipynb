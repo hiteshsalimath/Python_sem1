{
 "cells": [
  {
   "cell_type": "markdown",
   "metadata": {},
   "source": [
    "# 31-07-2023 </br>\n"
   ]
  },
  {
   "cell_type": "markdown",
   "metadata": {},
   "source": [
    "#### $Lambda$ $function$\n",
    "\n",
    "- it is a anonymous function.\n",
    "\n",
    "- it can take any number of arguments, but can have only one expression."
   ]
  },
  {
   "cell_type": "code",
   "execution_count": 1,
   "metadata": {},
   "outputs": [
    {
     "name": "stdout",
     "output_type": "stream",
     "text": [
      "15\n"
     ]
    }
   ],
   "source": [
    "x = lambda a,b: a*b\n",
    "print(x(3,5))"
   ]
  },
  {
   "cell_type": "code",
   "execution_count": 6,
   "metadata": {},
   "outputs": [
    {
     "name": "stdout",
     "output_type": "stream",
     "text": [
      "5\n",
      "14\n",
      "17\n"
     ]
    }
   ],
   "source": [
    "f = lambda x,y,z=0,w=0: x + 2*y + 3*z + 4*w\n",
    "\n",
    "print(f(1,2))\n",
    "print(f(1,2,3))\n",
    "print(f(1,2,w=3))"
   ]
  },
  {
   "cell_type": "code",
   "execution_count": 11,
   "metadata": {},
   "outputs": [
    {
     "name": "stdout",
     "output_type": "stream",
     "text": [
      "5\n",
      "22\n"
     ]
    }
   ],
   "source": [
    "l = lambda x=0,y=0: x**3 + y**2 + 5\n",
    "print(l())\n",
    "print(l(2,3))"
   ]
  },
  {
   "cell_type": "markdown",
   "metadata": {},
   "source": [
    "### $List$ $Comprehension$"
   ]
  },
  {
   "cell_type": "code",
   "execution_count": 14,
   "metadata": {},
   "outputs": [
    {
     "name": "stdout",
     "output_type": "stream",
     "text": [
      "vayu\n",
      "vajra\n",
      "pushpaka\n",
      "ordiary\n",
      "samruddhi\n",
      "janapriya\n",
      "atalseva\n"
     ]
    },
    {
     "data": {
      "text/plain": [
       "[None, None, None, None, None, None, None]"
      ]
     },
     "execution_count": 14,
     "metadata": {},
     "output_type": "execute_result"
    }
   ],
   "source": [
    "bus = ['vayu' , 'vajra', 'pushpaka', 'ordiary','samruddhi','janapriya','atalseva']\n",
    "routes = ['401M' , '401K','401R','401B','502H','226M' , '226N']\n",
    "passes = ['monthly','daily', 'student','anual','staff']\n",
    "pass_price = [1100,70,1850,2500,50]\n",
    "\n",
    "[print(x) for x in bus]\n"
   ]
  },
  {
   "cell_type": "code",
   "execution_count": 15,
   "metadata": {},
   "outputs": [
    {
     "name": "stdout",
     "output_type": "stream",
     "text": [
      "['vayu', 'vajra', 'pushpaka', 'ordiary', 'samruddhi', 'janapriya', 'atalseva']\n"
     ]
    }
   ],
   "source": [
    "new_list = [x for x in bus]\n",
    "print(new_list)"
   ]
  },
  {
   "cell_type": "code",
   "execution_count": 17,
   "metadata": {},
   "outputs": [
    {
     "name": "stdout",
     "output_type": "stream",
     "text": [
      "['vayu', 'vajra', 'atalseva']\n"
     ]
    }
   ],
   "source": [
    "newlist = [x for x in bus if \"v\" in x]\n",
    "print(newlist)"
   ]
  },
  {
   "cell_type": "code",
   "execution_count": 20,
   "metadata": {},
   "outputs": [
    {
     "name": "stdout",
     "output_type": "stream",
     "text": [
      "['VAYU', 'VAJRA', 'PUSHPAKA', 'ORDIARY', 'SAMRUDDHI', 'JANAPRIYA', 'ATALSEVA']\n"
     ]
    }
   ],
   "source": [
    "newlist = [x.upper() for x in bus]\n",
    "print(newlist)"
   ]
  },
  {
   "cell_type": "code",
   "execution_count": 23,
   "metadata": {},
   "outputs": [
    {
     "name": "stdout",
     "output_type": "stream",
     "text": [
      "['vayu', 'ordinary', 'pushpaka', 'ordiary', 'samruddhi', 'janapriya', 'atalseva']\n"
     ]
    }
   ],
   "source": [
    "newlist = [x if x != 'vajra' else 'ordinary' for x in bus]\n",
    "print(newlist)"
   ]
  },
  {
   "cell_type": "code",
   "execution_count": null,
   "metadata": {},
   "outputs": [],
   "source": []
  }
 ],
 "metadata": {
  "kernelspec": {
   "display_name": "base",
   "language": "python",
   "name": "python3"
  },
  "language_info": {
   "codemirror_mode": {
    "name": "ipython",
    "version": 3
   },
   "file_extension": ".py",
   "mimetype": "text/x-python",
   "name": "python",
   "nbconvert_exporter": "python",
   "pygments_lexer": "ipython3",
   "version": "3.9.13"
  },
  "orig_nbformat": 4
 },
 "nbformat": 4,
 "nbformat_minor": 2
}
