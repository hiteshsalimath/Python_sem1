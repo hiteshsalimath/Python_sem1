{
 "cells": [
  {
   "cell_type": "code",
   "execution_count": 11,
   "metadata": {},
   "outputs": [
    {
     "name": "stdout",
     "output_type": "stream",
     "text": [
      "\n",
      "tuple values are:\n",
      "kar\n",
      "bng\n",
      "True\n",
      "\n",
      "Indices are:\n",
      "0\n",
      "1\n",
      "2\n",
      "name\n"
     ]
    }
   ],
   "source": [
    "# Dictionaries\n",
    "# 2str 1 bool\n",
    "\n",
    "a = ('kar','bng',True)\n",
    "\n",
    "print('\\ntuple values are:')\n",
    "for i in a:\n",
    "    print(i)\n",
    "\n",
    "print('\\nIndices are:')\n",
    "for i in range(len(a)):\n",
    "    print(i)\n",
    "\n",
    "tup1 = (user:='name',name:='adith')\n",
    "print(user)"
   ]
  },
  {
   "cell_type": "code",
   "execution_count": 48,
   "metadata": {},
   "outputs": [
    {
     "name": "stdout",
     "output_type": "stream",
     "text": [
      "{'name': 'user1', 'is_login': True, 'loginAtp': 2}\n"
     ]
    }
   ],
   "source": [
    "# representing a user with 3 attributes\n",
    "\n",
    "d1 = {'name':'user1',\n",
    "      'is_login':True, \n",
    "      'loginAtp': 2}\n",
    "print(d1)"
   ]
  },
  {
   "cell_type": "code",
   "execution_count": 49,
   "metadata": {},
   "outputs": [
    {
     "name": "stdout",
     "output_type": "stream",
     "text": [
      "True\n",
      "-------------Iteration----------------\n",
      "name ; user1\n",
      "is_login ; True\n",
      "loginAtp ; 2\n",
      "-------------Methods------------------\n",
      "user1\n",
      "dict_keys(['name', 'is_login', 'loginAtp'])\n",
      "dict_values(['user1', True, 2])\n",
      "{'name': 'user1', 'is_login': True, 'loginAtp': 2, 'isAdmin': True}\n",
      "After removing:\n",
      " {'name': 'user1', 'is_login': True, 'loginAtp': 2}\n"
     ]
    }
   ],
   "source": [
    "print(d1['is_login'])#\n",
    "\n",
    "print('-------------Iteration----------------')\n",
    "for i in d1:\n",
    "    print(i,';',d1[i])\n",
    "print('-------------Methods------------------')\n",
    "\n",
    "print(d1.get('name')) #accessing elements\n",
    "print(d1.keys()) #prints only keys in the specified dict\n",
    "print(d1.values()) #prints all the values in the dictionary\n",
    "d1.update({'isAdmin':True})\n",
    "print(d1)\n",
    "d1.pop(\"isAdmin\")\n",
    "print('After removing:\\n',d1)\n"
   ]
  },
  {
   "cell_type": "code",
   "execution_count": 56,
   "metadata": {},
   "outputs": [
    {
     "name": "stdout",
     "output_type": "stream",
     "text": [
      "{'name': 'user1', 'is_login': True, 'loginAtp': 2}\n",
      "----------------------------------------\n",
      "{'name': 'user1', 'is_login': True, 'loginAtp': 2}\n"
     ]
    }
   ],
   "source": [
    "print(dict([('name','user1'),('is_login',True),('loginAtp',2)]))\n",
    "print('-' * 40)\n",
    "print(d1)\n",
    "del(d1)"
   ]
  },
  {
   "cell_type": "code",
   "execution_count": 59,
   "metadata": {},
   "outputs": [
    {
     "name": "stdout",
     "output_type": "stream",
     "text": [
      "{'na': 'b'}\n"
     ]
    }
   ],
   "source": [
    "dic = {'na':'a','na':'b'}\n",
    "print(dic) #keys have to be unique and difference in value will overwrite the value assigned to the key"
   ]
  },
  {
   "cell_type": "markdown",
   "metadata": {},
   "source": [
    "# $SETS$"
   ]
  },
  {
   "cell_type": "code",
   "execution_count": 60,
   "metadata": {},
   "outputs": [
    {
     "name": "stdout",
     "output_type": "stream",
     "text": [
      "apple\n",
      "banana\n",
      "pear\n",
      "orange\n"
     ]
    }
   ],
   "source": [
    "basket = {'apple','orange','apple','pear','orange','banana'}\n",
    " \n",
    "for i in basket:\n",
    "    print(i)"
   ]
  },
  {
   "cell_type": "code",
   "execution_count": 61,
   "metadata": {},
   "outputs": [
    {
     "data": {
      "text/plain": [
       "{'a', 'b', 'd', 'f', 's', 'v', 'z'}"
      ]
     },
     "execution_count": 61,
     "metadata": {},
     "output_type": "execute_result"
    }
   ],
   "source": [
    "set('absdvzsdvszdfszdfzsd') #repititon is not allowed"
   ]
  },
  {
   "cell_type": "code",
   "execution_count": null,
   "metadata": {},
   "outputs": [],
   "source": [
    "#lab cia-1 'a'"
   ]
  }
 ],
 "metadata": {
  "kernelspec": {
   "display_name": "Python 3",
   "language": "python",
   "name": "python3"
  },
  "language_info": {
   "codemirror_mode": {
    "name": "ipython",
    "version": 3
   },
   "file_extension": ".py",
   "mimetype": "text/x-python",
   "name": "python",
   "nbconvert_exporter": "python",
   "pygments_lexer": "ipython3",
   "version": "3.11.4"
  },
  "orig_nbformat": 4
 },
 "nbformat": 4,
 "nbformat_minor": 2
}
