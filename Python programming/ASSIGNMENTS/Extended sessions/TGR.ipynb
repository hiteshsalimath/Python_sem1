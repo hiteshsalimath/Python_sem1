{
 "cells": [
  {
   "cell_type": "markdown",
   "metadata": {},
   "source": [
    "### Keywords, operators and user inputs"
   ]
  },
  {
   "cell_type": "code",
   "execution_count": 2,
   "metadata": {},
   "outputs": [
    {
     "name": "stdout",
     "output_type": "stream",
     "text": [
      "['False', 'None', 'True', '__peg_parser__', 'and', 'as', 'assert', 'async', 'await', 'break', 'class', 'continue', 'def', 'del', 'elif', 'else', 'except', 'finally', 'for', 'from', 'global', 'if', 'import', 'in', 'is', 'lambda', 'nonlocal', 'not', 'or', 'pass', 'raise', 'return', 'try', 'while', 'with', 'yield']\n"
     ]
    }
   ],
   "source": [
    "import keyword\n",
    "print(keyword.kwlist)\n",
    "#35 keywords"
   ]
  },
  {
   "cell_type": "code",
   "execution_count": 8,
   "metadata": {},
   "outputs": [
    {
     "name": "stdout",
     "output_type": "stream",
     "text": [
      "5\n",
      "-1\n",
      "6\n",
      "1.5\n",
      "8\n",
      "1\n",
      "0\n",
      "0.8333333333333334\n"
     ]
    }
   ],
   "source": [
    "x = 2\n",
    "y = 3\n",
    "\n",
    "print(x+y)\n",
    "print(x-y)\n",
    "print(x*y)\n",
    "print(y/x)\n",
    "print(x**y)\n",
    "print(y%x) #gives the reminder of division\n",
    "print(5//6) # performs division and returns the floor value of the answer and the type of answer will be followed by the operand type.\n",
    "print(5/6)"
   ]
  },
  {
   "cell_type": "code",
   "execution_count": 13,
   "metadata": {},
   "outputs": [
    {
     "name": "stdout",
     "output_type": "stream",
     "text": [
      "First number is:  9.0 \n",
      "second number is:  4.0\n",
      "Multiplication:  36.0\n",
      "Reminder value for div:  1.0\n",
      "Division:  2.25\n",
      "Subtraction:  5.0\n",
      "Addition:  13.0\n",
      "Floor division:  2.0\n"
     ]
    }
   ],
   "source": [
    "#calculator\n",
    "\n",
    "num1 = float(input(\"Enter the first number: \"))\n",
    "num2 = float(input(\"Enter the second number: \"))\n",
    "\n",
    "print(\"First number is: \",num1,\"\\nsecond number is: \",num2)\n",
    "\n",
    "print(\"Multiplication: \",num1 * num2)\n",
    "print(\"Reminder value for div: \",num1 % num2)\n",
    "print(\"Division: \",num1 / num2)\n",
    "print(\"Subtraction: \",num1 - num2)\n",
    "print(\"Addition: \",num1 + num2)\n",
    "print(\"Floor division: \",num1 // num2)"
   ]
  },
  {
   "cell_type": "markdown",
   "metadata": {},
   "source": [
    "## $Lists$\n",
    "#### $23-08-2023$"
   ]
  },
  {
   "cell_type": "code",
   "execution_count": 10,
   "metadata": {},
   "outputs": [
    {
     "name": "stdout",
     "output_type": "stream",
     "text": [
      "a\n",
      "s\n",
      "d\n",
      "f\n",
      "g\n",
      "2\n",
      "3\n",
      "a s d f g 2 3 \n",
      " ['a', 's', 'H', 'd', 'f', 'g', 2, 3]\n",
      "['a', 's', 'H', 'd', 'f', 'g', 2, 3, 'a']\n"
     ]
    }
   ],
   "source": [
    "list1 = ['a','s','d','f','g',2,3]\n",
    "for i in list1:\n",
    "    print(i)\n",
    "\n",
    "for i in list1:\n",
    "    print(i, end=\" \")\n",
    "\n",
    "#inserting\n",
    "\n",
    "list1.insert(2,'H')\n",
    "print(\"\\n\",list1)\n",
    "\n",
    "#extend\n",
    "list1.extend('a')\n",
    "print(list1)"
   ]
  },
  {
   "cell_type": "code",
   "execution_count": 13,
   "metadata": {},
   "outputs": [
    {
     "name": "stdout",
     "output_type": "stream",
     "text": [
      "['a', 's', 'H', 'd', 'f', 'g', 2, 3, 'a']\n"
     ]
    },
    {
     "data": {
      "text/plain": [
       "['a', 's', 'H', 'd', 'f', 'g', 2, 3, 'a']"
      ]
     },
     "execution_count": 13,
     "metadata": {},
     "output_type": "execute_result"
    }
   ],
   "source": [
    "print(list1)\n",
    "\n",
    "[x for x in list1]\n",
    "\n"
   ]
  },
  {
   "cell_type": "code",
   "execution_count": 19,
   "metadata": {},
   "outputs": [
    {
     "name": "stdout",
     "output_type": "stream",
     "text": [
      "[1, 3, 5, 7, 9, 11, 13]\n",
      "13\n"
     ]
    }
   ],
   "source": [
    "a = [x for x in range(1,15,2)] #[1,2,3,4,5,6,7,8,9]\n",
    "print(a)\n",
    "max = a[0]\n",
    "for x in a:\n",
    "    if (x>max):\n",
    "        max = x\n",
    "print(max)"
   ]
  },
  {
   "cell_type": "code",
   "execution_count": 20,
   "metadata": {},
   "outputs": [],
   "source": [
    "a.append(['a','b','c'])\n"
   ]
  },
  {
   "cell_type": "code",
   "execution_count": 24,
   "metadata": {},
   "outputs": [
    {
     "name": "stdout",
     "output_type": "stream",
     "text": [
      "[1, 3, 5, 7, 9, 11, 13, ['a', 'b', 'c']]\n",
      "c\n"
     ]
    }
   ],
   "source": [
    "print(a)\n",
    "\n",
    "print(a[7][2])"
   ]
  },
  {
   "cell_type": "code",
   "execution_count": 26,
   "metadata": {},
   "outputs": [
    {
     "name": "stdout",
     "output_type": "stream",
     "text": [
      "[1, 3, 5, 11, 13, ['a', 'b', 'c']]\n"
     ]
    }
   ],
   "source": [
    "a.pop(3)\n",
    "print(a)\n"
   ]
  },
  {
   "cell_type": "code",
   "execution_count": 27,
   "metadata": {},
   "outputs": [],
   "source": [
    "a.reverse()"
   ]
  },
  {
   "cell_type": "code",
   "execution_count": 28,
   "metadata": {},
   "outputs": [
    {
     "name": "stdout",
     "output_type": "stream",
     "text": [
      "[['a', 'b', 'c'], 13, 11, 5, 3, 1]\n"
     ]
    }
   ],
   "source": [
    "print(a)"
   ]
  },
  {
   "cell_type": "code",
   "execution_count": 39,
   "metadata": {},
   "outputs": [
    {
     "name": "stdout",
     "output_type": "stream",
     "text": [
      "hsetih\n"
     ]
    }
   ],
   "source": [
    "b = \"hitesh\"\n",
    "print(b[::-1])\n",
    "#madam - madam\n",
    "# print(b[::-1])"
   ]
  },
  {
   "cell_type": "code",
   "execution_count": 45,
   "metadata": {},
   "outputs": [
    {
     "name": "stdout",
     "output_type": "stream",
     "text": [
      "madam is a palindrom\n"
     ]
    }
   ],
   "source": [
    "name1 = input(\"enter the name: \")\n",
    "test_pan = name1[::-1]\n",
    "\n",
    "\n",
    "if name1==test_pan:\n",
    "    print(name1,\"is a palindrom\")\n",
    "else:\n",
    "    print(name1,\"is not a palindrom\")"
   ]
  },
  {
   "cell_type": "markdown",
   "metadata": {},
   "source": [
    "$tuple$\n",
    "### $25-08-2023$"
   ]
  },
  {
   "cell_type": "code",
   "execution_count": null,
   "metadata": {},
   "outputs": [],
   "source": []
  }
 ],
 "metadata": {
  "kernelspec": {
   "display_name": "base",
   "language": "python",
   "name": "python3"
  },
  "language_info": {
   "codemirror_mode": {
    "name": "ipython",
    "version": 3
   },
   "file_extension": ".py",
   "mimetype": "text/x-python",
   "name": "python",
   "nbconvert_exporter": "python",
   "pygments_lexer": "ipython3",
   "version": "3.11.4"
  },
  "orig_nbformat": 4
 },
 "nbformat": 4,
 "nbformat_minor": 2
}
