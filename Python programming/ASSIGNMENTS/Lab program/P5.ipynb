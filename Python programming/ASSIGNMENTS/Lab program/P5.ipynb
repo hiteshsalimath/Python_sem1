{
 "cells": [
  {
   "cell_type": "markdown",
   "metadata": {},
   "source": [
    "Write a program which accepts as input a DOB in the format \"dd/mm/yyyy \"and prints AGE of the person. Validate the input using Exceptional Handling \n",
    "\n",
    "If no input is given, prompt user to enter input \n",
    "\n",
    "If \"?\" is typed help the user by telling him/her to enter Data of Birth in the required format \n",
    "\n",
    "If date is entered validate the correctness of the date and print AGE \n",
    "\n",
    "If \"q\" or \"Q\" is entered invoke a user defined exception which quits the program after printing \"Bye! Hope you run this program again\"."
   ]
  },
  {
   "cell_type": "code",
   "execution_count": 3,
   "metadata": {},
   "outputs": [
    {
     "ename": "TypeError",
     "evalue": "catching classes that do not inherit from BaseException is not allowed",
     "output_type": "error",
     "traceback": [
      "\u001b[1;31m---------------------------------------------------------------------------\u001b[0m",
      "\u001b[1;31mValueError\u001b[0m                                Traceback (most recent call last)",
      "Cell \u001b[1;32mIn[3], line 23\u001b[0m\n\u001b[0;32m     21\u001b[0m     \u001b[39mcontinue\u001b[39;00m\n\u001b[1;32m---> 23\u001b[0m d,m,y \u001b[39m=\u001b[39m \u001b[39mmap\u001b[39m(\u001b[39mint\u001b[39m,dob\u001b[39m.\u001b[39msplit(\u001b[39m'\u001b[39m\u001b[39m-\u001b[39m\u001b[39m'\u001b[39m))\n\u001b[0;32m     25\u001b[0m dateob \u001b[39m=\u001b[39m datetime\u001b[39m.\u001b[39mdate(y,m,d)\n",
      "\u001b[1;31mValueError\u001b[0m: invalid literal for int() with base 10: 'qe'",
      "\nDuring handling of the above exception, another exception occurred:\n",
      "\u001b[1;31mTypeError\u001b[0m                                 Traceback (most recent call last)",
      "Cell \u001b[1;32mIn[3], line 30\u001b[0m\n\u001b[0;32m     27\u001b[0m     age \u001b[39m=\u001b[39m get_age(dateob)\n\u001b[0;32m     28\u001b[0m     \u001b[39mprint\u001b[39m(\u001b[39mf\u001b[39m\u001b[39m'\u001b[39m\u001b[39myou are\u001b[39m\u001b[39m{\u001b[39;00mage\u001b[39m}\u001b[39;00m\u001b[39m years old\u001b[39m\u001b[39m'\u001b[39m)\n\u001b[1;32m---> 30\u001b[0m \u001b[39mexcept\u001b[39;00m quit \u001b[39mas\u001b[39;00m qe:\n\u001b[0;32m     31\u001b[0m     \u001b[39mprint\u001b[39m(qe)\n\u001b[0;32m     32\u001b[0m     \u001b[39mbreak\u001b[39;00m\n",
      "\u001b[1;31mTypeError\u001b[0m: catching classes that do not inherit from BaseException is not allowed"
     ]
    }
   ],
   "source": [
    "import datetime\n",
    "\n",
    "class exit(Exception):\n",
    "    def __init__(self, message = \"Bye! Hope you run this program again\"):\n",
    "        self.message = message\n",
    "        super().__init__(self.message)\n",
    "\n",
    "def get_age(birth):\n",
    "    today = datetime.date.today()\n",
    "    age = today.year - birth.year - ((today.month,today.day)<(birth.month,birth.day))\n",
    "    return age\n",
    "\n",
    "while True:\n",
    "    try:\n",
    "        dob = input(\"Enter date of birth in dd-mm-yyyy format: \")\n",
    "\n",
    "        if dob == \"?\":\n",
    "            print(\"THe entered dob is not in proper format\")\n",
    "        elif(dob == 'q'):\n",
    "            print(\"Bye! Hope you run this program again\")\n",
    "            continue\n",
    "\n",
    "        d,m,y = map(int,dob.split('-'))\n",
    "\n",
    "        dateob = datetime.date(y,m,d)\n",
    "\n",
    "        age = get_age(dateob)\n",
    "        print(f'you are{age} years old')\n",
    "\n",
    "    except quit as qe:\n",
    "        print(qe)\n",
    "        break\n",
    "    except ValueError:\n",
    "        print(\"!!Invalid date format!!\")\n",
    "    except Exception as e:\n",
    "        print(\"an error occured\",e)\n"
   ]
  },
  {
   "cell_type": "code",
   "execution_count": null,
   "metadata": {},
   "outputs": [],
   "source": []
  }
 ],
 "metadata": {
  "kernelspec": {
   "display_name": "Python 3",
   "language": "python",
   "name": "python3"
  },
  "language_info": {
   "codemirror_mode": {
    "name": "ipython",
    "version": 3
   },
   "file_extension": ".py",
   "mimetype": "text/x-python",
   "name": "python",
   "nbconvert_exporter": "python",
   "pygments_lexer": "ipython3",
   "version": "3.11.4"
  },
  "orig_nbformat": 4
 },
 "nbformat": 4,
 "nbformat_minor": 2
}
