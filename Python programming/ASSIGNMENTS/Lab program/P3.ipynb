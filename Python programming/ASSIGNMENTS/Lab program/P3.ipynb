{
 "cells": [
  {
   "cell_type": "code",
   "execution_count": 3,
   "metadata": {},
   "outputs": [],
   "source": [
    "import p34_modules"
   ]
  },
  {
   "cell_type": "code",
   "execution_count": 26,
   "metadata": {},
   "outputs": [
    {
     "name": "stdout",
     "output_type": "stream",
     "text": [
      "0b11001000b11011000b1111001\n"
     ]
    }
   ],
   "source": [
    "def binaryoly(binary):\n",
    "    binary = binary[2:]\n",
    "def encoding():\n",
    "    passtype_name = str(input(\"Enter pass type: \"))\n",
    "    binary_values =\"\"\n",
    "    for i in passtype_name:\n",
    "        asic = ord(i)\n",
    "        binary = bin(asic)\n",
    "        binaryoly(binary)\n",
    "        \n",
    "        binary_values += binary\n",
    "    print(binary_values)\n",
    "encoding()"
   ]
  }
 ],
 "metadata": {
  "kernelspec": {
   "display_name": "base",
   "language": "python",
   "name": "python3"
  },
  "language_info": {
   "codemirror_mode": {
    "name": "ipython",
    "version": 3
   },
   "file_extension": ".py",
   "mimetype": "text/x-python",
   "name": "python",
   "nbconvert_exporter": "python",
   "pygments_lexer": "ipython3",
   "version": "3.9.13"
  },
  "orig_nbformat": 4
 },
 "nbformat": 4,
 "nbformat_minor": 2
}
