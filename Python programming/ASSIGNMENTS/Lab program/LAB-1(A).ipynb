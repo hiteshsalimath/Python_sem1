{
 "cells": [
  {
   "cell_type": "markdown",
   "metadata": {},
   "source": [
    "# $LAB-1$ $(26-07-2023)$"
   ]
  },
  {
   "cell_type": "markdown",
   "metadata": {},
   "source": [
    "$Hitesh$ $Salimath$</br>\n",
    "$2347118$</br>\n",
    "$1MCA$ $A$</br>"
   ]
  },
  {
   "cell_type": "markdown",
   "metadata": {},
   "source": [
    "## $Question$ $1:$ Strings"
   ]
  },
  {
   "cell_type": "markdown",
   "metadata": {},
   "source": [
    "#### QUESTION 1(A):"
   ]
  },
  {
   "cell_type": "code",
   "execution_count": 12,
   "metadata": {},
   "outputs": [
    {
     "name": "stdout",
     "output_type": "stream",
     "text": [
      "BMTC - Bengaluru Metroplitan Transport Corporation, is a state owned public road transport corporation in Bengaluru.    BMTC is completely owned by the state government of Karnataka to look after it's operations inside the city.    BMTC has multiple depots with good number of AC and Non-AC busses.    BMTC also provides affordable price to the residets of Bengaluru with provisons like special passes to students, recently they are giving free services to ladies.    The government also invest a very huge amount to add the latest verified technology to the systems of BMTC.\n"
     ]
    }
   ],
   "source": [
    "about = (\"BMTC - Bengaluru Metroplitan Transport Corporation, is a state owned public road transport corporation in Bengaluru.\\\n",
    "    BMTC is completely owned by the state government of Karnataka to look after it's operations inside the city.\\\n",
    "    BMTC has multiple depots with good number of AC and Non-AC busses.\\\n",
    "    BMTC also provides affordable price to the residets of Bengaluru with provisons like special passes to students, recently they are giving free services to ladies.\\\n",
    "    The government also invest a very huge amount to add the latest verified technology to the systems of BMTC.\")\n",
    "\n",
    "print(about)"
   ]
  },
  {
   "cell_type": "markdown",
   "metadata": {},
   "source": [
    "PART(1):"
   ]
  },
  {
   "cell_type": "code",
   "execution_count": 36,
   "metadata": {},
   "outputs": [
    {
     "name": "stdout",
     "output_type": "stream",
     "text": [
      "['BMTC', '-', 'Bengaluru', 'Metroplitan', 'Transport', 'Corporation,', 'is', 'a', 'state', 'owned', 'public', 'road', 'transport', 'corporation', 'in', 'Bengaluru.', 'BMTC', 'is', 'completely', 'owned', 'by', 'the', 'state', 'government', 'of', 'Karnataka', 'to', 'look', 'after', \"it's\", 'operations', 'inside', 'the', 'city.', 'BMTC', 'has', 'multiple', 'depots', 'with', 'good', 'number', 'of', 'AC', 'and', 'Non-AC', 'busses.', 'BMTC', 'also', 'provides', 'affordable', 'price', 'to', 'the', 'residets', 'of', 'Bengaluru', 'with', 'provisons', 'like', 'special', 'passes', 'to', 'students,', 'recently', 'they', 'are', 'giving', 'free', 'services', 'to', 'ladies.', 'The', 'government', 'also', 'invest', 'a', 'very', 'huge', 'amount', 'to', 'add', 'the', 'latest', 'verified', 'technology', 'to', 'the', 'systems', 'of', 'BMTC.']\n",
      "The domain name is repeated 5  times in the paragraphed text.\n"
     ]
    }
   ],
   "source": [
    "about_str = about.split() # split function is used to divide the paragraph into individual elments in a list format\n",
    "print(about_str)\n",
    "cnt = about_str.count('BMTC') # The count function will count the total number of elements in the paragraph list\n",
    "print(\"The domain name is repeated\",cnt,\" times in the paragraphed text.\")"
   ]
  },
  {
   "cell_type": "markdown",
   "metadata": {},
   "source": [
    "PART(2):"
   ]
  },
  {
   "cell_type": "code",
   "execution_count": 41,
   "metadata": {},
   "outputs": [
    {
     "name": "stdout",
     "output_type": "stream",
     "text": [
      "There are 5 lines in the paragraph text\n",
      "The total number of words in the paragraph text:  90\n",
      "The total number of characters in the paragraph text:  575\n"
     ]
    }
   ],
   "source": [
    "num_lines = 0\n",
    "i = 0\n",
    "\n",
    "for i in about:\n",
    "    if i == '.':\n",
    "        num_lines += 1 # Th loop will check for \".\" in the paragraph and increnments value of number of lines by 1 whenever found.\n",
    "    \n",
    "print(\"There are\",num_lines,\"lines in the paragraph text\")\n",
    "\n",
    "no_words = len(about_str) # Using the len funtion we can find the total number of elenets in the paragraph(list).\n",
    "print(\"The total number of words in the paragraph text: \",no_words)\n",
    "\n",
    "no_characters = len(about) # Using th len function again we can find the total number of characters in the paragraph(tupple).\n",
    "print(\"The total number of characters in the paragraph text: \",no_characters)"
   ]
  },
  {
   "cell_type": "markdown",
   "metadata": {},
   "source": [
    "PART(3):"
   ]
  },
  {
   "cell_type": "code",
   "execution_count": 126,
   "metadata": {},
   "outputs": [
    {
     "name": "stdout",
     "output_type": "stream",
     "text": [
      "There are 4 characters in the domain name BMTC . \n",
      "The alphabetical order of the characters will be as follows:\n",
      "BCMT\n"
     ]
    }
   ],
   "source": [
    "domain_name = (\"BMTC\")\n",
    "order = \"ABCDEFGHIJKLMNOPQRSTUVWXYZ\"\n",
    "in_order = []\n",
    "\n",
    "print(\"There are\",len(domain_name), \"characters in the domain name\",domain_name,\". \\nThe alphabetical order of the characters will be as follows:\")#\\n prints values in next line\n",
    "\n",
    "for i in order: #for loop checks for each character with the order of the characters that is assigned and appends to the empty list for each correct order of alphabets.\n",
    "    if i == domain_name[0]:\n",
    "        in_order.append(i)\n",
    "    elif i == domain_name[1]:\n",
    "        in_order.append(i)\n",
    "    elif i == domain_name[2]:\n",
    "        in_order.append(i)\n",
    "    elif i == domain_name[3]:\n",
    "        in_order.append(i)\n",
    "\n",
    "final_order = (\"\".join(in_order[0:len(in_order)])) #The .join function merges the elements inside a list.\n",
    "print(final_order)"
   ]
  },
  {
   "cell_type": "markdown",
   "metadata": {},
   "source": [
    "#### QUSTION 1(B):"
   ]
  },
  {
   "cell_type": "code",
   "execution_count": 116,
   "metadata": {},
   "outputs": [
    {
     "name": "stdout",
     "output_type": "stream",
     "text": [
      "The name of the domain is:  ['BMTC']\n",
      "The encrypt value is:  5\n",
      "The encrypted text of the domain is:  ['GRYH']\n"
     ]
    }
   ],
   "source": [
    "print(\"The name of the domain is: \",[domain_name])\n",
    "\n",
    "n = int(input(\"Enter the encriptin value\"))\n",
    "\n",
    "print(\"The encrypt value is: \",n)\n",
    "\n",
    "fin_en = []\n",
    "\n",
    "for i in domain_name: #forloop identifies the first charachter and increments the ASCII value of the character and appends the converted character to empty list.\n",
    "    ascii = chr(ord(i)+n) #ord() function gives ASCII representation of character and chr() function converts ASCII representation of character to character.\n",
    "    fin_en.append(ascii)\n",
    "encrypted = [''.join(fin_en[0:len(fin_en)])] #merging of appended list of encrypted characters \n",
    "print(\"The encrypted text of the domain is: \",(encrypted))"
   ]
  },
  {
   "cell_type": "markdown",
   "metadata": {},
   "source": [
    "## $Question$ $2:$ Functions "
   ]
  },
  {
   "cell_type": "code",
   "execution_count": 29,
   "metadata": {},
   "outputs": [],
   "source": [
    "def pay(wage,hrs):\n",
    "    if hrs<=40:\n",
    "        initial_pay = wage*hrs\n",
    "        print(\"The pay for the employee working for\",hrs,\"hours will be paid\",initial_pay,\"rupees.\")\n",
    "    elif hrs > 40:\n",
    "        initial_pays = 40*wage\n",
    "        ot_pay = (hrs - 40)*(wage*1.5)\n",
    "        final_pays = initial_pays + ot_pay\n",
    "        print(\"The pay for the employee working for\",hrs,\"hours will be paid\",final_pays,\"rupees.\")\n"
   ]
  },
  {
   "cell_type": "code",
   "execution_count": 30,
   "metadata": {},
   "outputs": [
    {
     "name": "stdout",
     "output_type": "stream",
     "text": [
      "The pay for the employee working for 35 hours will be paid 350 rupees.\n",
      "The pay for the employee working for 45 hours will be paid 475.0 rupees.\n",
      "The pay for the employee working for 40 hours will be paid 400 rupees.\n"
     ]
    }
   ],
   "source": [
    "pay(10,35)\n",
    "pay(10,45)\n",
    "pay(10,40)"
   ]
  },
  {
   "cell_type": "markdown",
   "metadata": {},
   "source": [
    "## $Question$ $3:$ Tuples"
   ]
  },
  {
   "cell_type": "code",
   "execution_count": 45,
   "metadata": {},
   "outputs": [
    {
     "name": "stdout",
     "output_type": "stream",
     "text": [
      "[('ordinary', 45, 25000), ('volvo', 30, 45000), ('janapriya', 40, 32500)]\n"
     ]
    }
   ],
   "source": [
    "# bmtc busses for hire per day ('bus tye',no.of seats,price)\n",
    "buses = [('ordinary',45,25000),('volvo',30,45000),('janapriya',40,32500)]\n",
    "print(buses)"
   ]
  },
  {
   "cell_type": "markdown",
   "metadata": {},
   "source": [
    "$(a)$"
   ]
  },
  {
   "cell_type": "code",
   "execution_count": null,
   "metadata": {},
   "outputs": [],
   "source": []
  },
  {
   "cell_type": "markdown",
   "metadata": {},
   "source": [
    "$(b)$"
   ]
  },
  {
   "cell_type": "code",
   "execution_count": null,
   "metadata": {},
   "outputs": [],
   "source": []
  },
  {
   "cell_type": "markdown",
   "metadata": {},
   "source": [
    "$(c)$"
   ]
  },
  {
   "cell_type": "code",
   "execution_count": 36,
   "metadata": {},
   "outputs": [
    {
     "name": "stdout",
     "output_type": "stream",
     "text": [
      "Alphebetical order of the first string will be as follows: \n"
     ]
    },
    {
     "data": {
      "text/plain": [
       "[('janapriya', 40, 32500), ('ordinary', 45, 25000), ('volvo', 30, 45000)]"
      ]
     },
     "execution_count": 36,
     "metadata": {},
     "output_type": "execute_result"
    }
   ],
   "source": [
    "print(\"Alphebetical order of the first string will be as follows: \")\n",
    "sorted(buses) # The sorted function sorts the list based on the first element inside the tuples."
   ]
  },
  {
   "cell_type": "code",
   "execution_count": null,
   "metadata": {},
   "outputs": [],
   "source": []
  }
 ],
 "metadata": {
  "kernelspec": {
   "display_name": "base",
   "language": "python",
   "name": "python3"
  },
  "language_info": {
   "codemirror_mode": {
    "name": "ipython",
    "version": 3
   },
   "file_extension": ".py",
   "mimetype": "text/x-python",
   "name": "python",
   "nbconvert_exporter": "python",
   "pygments_lexer": "ipython3",
   "version": "3.9.13"
  },
  "orig_nbformat": 4
 },
 "nbformat": 4,
 "nbformat_minor": 2
}
