{
 "cells": [
  {
   "cell_type": "markdown",
   "metadata": {},
   "source": [
    "# $Question:$"
   ]
  },
  {
   "cell_type": "markdown",
   "metadata": {},
   "source": [
    "Imagine you are creating a form(Admission form/Registration Form, Booking Form, etc.,.)\n",
    "relevant to your domain. Create a function using the ‘re’ module to verify the following.<br>\n",
    "1. The input string is correct or not (name and dot)\n",
    "2. Input has only digit(Register number, phone number)\n",
    "3. Verify the email ID\n",
    "4. Verify date of birth\n",
    "5. Payment option\n",
    "6. All the above five entries received the correct Input"
   ]
  },
  {
   "cell_type": "code",
   "execution_count": 5,
   "metadata": {},
   "outputs": [
    {
     "name": "stdout",
     "output_type": "stream",
     "text": [
      "BMTC Bus Pass Application\n",
      "Name:  hitesh\n",
      "Phone number:  1234567899\n",
      "DOB:  28-01-2002\n",
      "invalid E-mail\n",
      "Invalid pass\n",
      "Invalid payment method\n"
     ]
    }
   ],
   "source": [
    "# creating a form:\n",
    "import re\n",
    "\n",
    "print('BMTC Bus Pass Application')\n",
    "\n",
    "element1 = input(\"Name: \")\n",
    "pattern = r'^[a-zA-Z.\\s]+$'\n",
    "if (re.match(pattern,element1)):\n",
    "    print(\"Name: \", element1)\n",
    "else :\n",
    "    print(\"invalid input of name\")\n",
    "\n",
    "element2 = (input(\"Phone number: \"))\n",
    "pattern = r'^\\d{10}$'\n",
    "if (re.match(pattern,element2)):\n",
    "    print(\"Phone number: \", element2)\n",
    "else :\n",
    "    print(\"invalid Phone number\")\n",
    "\n",
    "\n",
    "element3 = input(\"DOB (dd-mm-yyyy): \")\n",
    "pattern = r'^\\d{2}-\\d{2}-\\d{4}$'\n",
    "if (re.match(pattern,element3)):\n",
    "    print(\"DOB: \", element3)\n",
    "else :\n",
    "    print(\"invalid format\")\n",
    "\n",
    "\n",
    "element4 = input(\"E-mail Id: \")\n",
    "pattern = r'^[\\w\\.-]+@[\\w\\.-]+\\.\\w+$'\n",
    "if (re.match(pattern,element3)):\n",
    "    print(\"E-mail : \", element3)\n",
    "else :\n",
    "    print(\"invalid E-mail\")\n",
    "\n",
    "\n",
    "delement1 = input(\"select the type of bus pass(monthly/yearly/daily/weekly): \")\n",
    "if (delement1 == ('monthly' or 'yearly'or 'weekly'or'daily')):\n",
    "    print('Pass required: ',delement1)\n",
    "else :\n",
    "    print(\"Invalid pass\")\n",
    "\n",
    "element5 = input('mode of payment(debit/credit/UPI/cash): ')\n",
    "\n",
    "if (element5 == ('debit'or'credit'or'UPI'or'cash')):\n",
    "    print('Payment method: ',element5)\n",
    "else :\n",
    "    print(\"Invalid payment method\")"
   ]
  },
  {
   "cell_type": "code",
   "execution_count": 2,
   "metadata": {},
   "outputs": [
    {
     "name": "stdout",
     "output_type": "stream",
     "text": [
      "Pass required:  monthly\n"
     ]
    }
   ],
   "source": [
    "\n"
   ]
  },
  {
   "cell_type": "code",
   "execution_count": null,
   "metadata": {},
   "outputs": [],
   "source": []
  }
 ],
 "metadata": {
  "kernelspec": {
   "display_name": "Python 3",
   "language": "python",
   "name": "python3"
  },
  "language_info": {
   "codemirror_mode": {
    "name": "ipython",
    "version": 3
   },
   "file_extension": ".py",
   "mimetype": "text/x-python",
   "name": "python",
   "nbconvert_exporter": "python",
   "pygments_lexer": "ipython3",
   "version": "3.11.4"
  },
  "orig_nbformat": 4
 },
 "nbformat": 4,
 "nbformat_minor": 2
}
