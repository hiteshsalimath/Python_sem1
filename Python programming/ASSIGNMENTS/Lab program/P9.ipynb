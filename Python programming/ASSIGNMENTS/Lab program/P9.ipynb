# $P9$

Hitesh Salimath 2347118
import pandas as pd
import matplotlib.pyplot as plt
1. Import the domain dataset that you identiied and use it as a data source for below mentioned questions.

data = pd.read_csv("D:/Python programming/ASSIGNMENTS/IPL Player Stats/Batting Stats/BATTING STATS - IPL_2022.csv")

print(data.head(10))
data.shape
data.info()
data.describe()
