{
 "cells": [
  {
   "cell_type": "markdown",
   "metadata": {},
   "source": [
    "## 1. LIST\n",
    "\n",
    "Write a PYTHON script with List comprehension for the following\n",
    "\n",
    "• Is the given list divisible by 3 or NOT?\n",
    "\n",
    "• Square of even numbers in a list\n",
    "\n",
    "• Sum of digits of all EVEN numbers in a list\n",
    "\n",
    "• Remove duplicate numbers in a list"
   ]
  },
  {
   "cell_type": "code",
   "execution_count": 4,
   "metadata": {},
   "outputs": [
    {
     "name": "stdout",
     "output_type": "stream",
     "text": [
      "The user defined list is:  [1, 2, 3, 4, 5, 6, 7, 8, 9, 5]\n"
     ]
    }
   ],
   "source": [
    "list_comprehension = list()\n",
    "\n",
    "for i in range(0,10):\n",
    "    user_input = int(input(\"Enter any list of numbers: \"))\n",
    "    list_comprehension.append(user_input)\n",
    "\n",
    "print(\"The user defined list is: \",list_comprehension)"
   ]
  },
  {
   "cell_type": "code",
   "execution_count": 6,
   "metadata": {},
   "outputs": [],
   "source": [
    "#part1:\n",
    "def divisibility():\n",
    "    test_list = []\n",
    "    for i in list_comprehension:\n",
    "        if (i%3==0):\n",
    "            test_list.append(i)\n",
    "        else :\n",
    "            None\n",
    "    if (len(test_list) == len(list_comprehension)):\n",
    "        print(\"The given list is divisible by 3\")\n",
    "    else :\n",
    "        print(\"The given list is not divisible by 3\")\n",
    "\n",
    "#part2:\n",
    "def squaring_even():\n",
    "    for i in list_comprehension:\n",
    "        if (i%2==0):\n",
    "            print(\"The square of \",i,\" is \",i**2)\n",
    "        else:\n",
    "            print(i,\" is not an even number\")\n",
    "\n",
    "#part3:\n",
    "def sum_even():\n",
    "    sum = 0\n",
    "    sum_list = []\n",
    "    for i in list_comprehension:\n",
    "        if (i%2==0):\n",
    "            sum += i\n",
    "            sum_list.append(i)\n",
    "            print(\"The sum of all the even numbers is: \", sum)\n",
    "        else:\n",
    "            print(i,\" is not an even number\")\n",
    "    print(\"The list of added even numbers are: \", sum_list)\n",
    "\n",
    "#part4\n",
    "def removeDuplicates():\n",
    "    try:\n",
    "        # print(\"Enter values : \")\n",
    "        list_comprehension=[]\n",
    "        while True:\n",
    "            list_comprehension.append(int(input(\"Enter values : \")))\n",
    "    except:\n",
    "        print(\"Values stored : \",list_comprehension)\n",
    "        noDuplicates=[]\n",
    "        [noDuplicates.append(x) for x in list_comprehension if x not in noDuplicates]\n",
    "    print(noDuplicates)"
   ]
  },
  {
   "cell_type": "code",
   "execution_count": 8,
   "metadata": {},
   "outputs": [
    {
     "name": "stdout",
     "output_type": "stream",
     "text": [
      "------------------------ part1 --------------------------------\n",
      "The given list is not divisible by 3\n",
      "------------------------ part2 --------------------------------\n",
      "1  is not an even number\n",
      "The square of  2  is  4\n",
      "3  is not an even number\n",
      "The square of  4  is  16\n",
      "5  is not an even number\n",
      "The square of  6  is  36\n",
      "7  is not an even number\n",
      "The square of  8  is  64\n",
      "9  is not an even number\n",
      "5  is not an even number\n",
      "------------------------ part3 --------------------------------\n",
      "1  is not an even number\n",
      "The sum of all the even numbers is:  2\n",
      "3  is not an even number\n",
      "The sum of all the even numbers is:  6\n",
      "5  is not an even number\n",
      "The sum of all the even numbers is:  12\n",
      "7  is not an even number\n",
      "The sum of all the even numbers is:  20\n",
      "9  is not an even number\n",
      "5  is not an even number\n",
      "The list of added even numbers are:  [2, 4, 6, 8]\n",
      "------------------------ part4 --------------------------------\n",
      "Values stored :  [1, 2, 2, 5, 6, 7, 8, 9, 5, 2, 4, 6]\n",
      "[1, 2, 5, 6, 7, 8, 9, 4]\n"
     ]
    }
   ],
   "source": [
    "print(\"------------------------ part1 --------------------------------\")\n",
    "divisibility()\n",
    "print(\"------------------------ part2 --------------------------------\")\n",
    "squaring_even()\n",
    "print(\"------------------------ part3 --------------------------------\")\n",
    "sum_even()\n",
    "print(\"------------------------ part4 --------------------------------\")\n",
    "removeDuplicates()\n"
   ]
  },
  {
   "cell_type": "markdown",
   "metadata": {},
   "source": [
    "## 2. Dictionary\n",
    "\n",
    "Create a dictionary to store the details of your company employees (name as key and\n",
    "birthdate as value).\n",
    "\n",
    "{ ‘Virat Kohli’: ‘5 November 1988’, ‘Umesh Yadav’: ‘25 October 1987’, ‘Manish Pandey’:\n",
    "‘10 September 1989’, ‘Rohit Sharma’: ‘30 April 1987’, ‘Ravindra Jadeja’: ‘6 December\n",
    "1988’, ‘Hardik Pandya’: ‘11 October 1993’ }\n",
    "\n",
    "Write a function birthDate() that takes the full name of your employees(as a string) and\n",
    "displays the given employee’s birthdate.\n",
    "\n",
    "out: birthDate(‘Rohit Sharma’)\n",
    "‘30 April 1987’"
   ]
  },
  {
   "cell_type": "code",
   "execution_count": 15,
   "metadata": {},
   "outputs": [
    {
     "name": "stdout",
     "output_type": "stream",
     "text": [
      "Available buses : \n",
      "vajra\n",
      "vayu\n",
      "jaapriya\n",
      "atal seva\n",
      "ordiary\n",
      "pushpak\n",
      "\n",
      " vajra : 27 October 2014\n"
     ]
    }
   ],
   "source": [
    "def birthDate():\n",
    "    buses ={\"vajra\":\"27 October 2014\",\n",
    "            \"vayu\":\"17 November 2014\",\n",
    "            \"jaapriya\":\"4 October 2010\",\n",
    "            \"atal seva\":\"22 February 2011\",\n",
    "            \"ordiary\":\"31 August 2018\",\n",
    "            \"pushpak\":\"3 March 2017\"}\n",
    "    \n",
    "    print(\"Available buses : \")\n",
    "    for x in buses:\n",
    "        print(x)\n",
    "\n",
    "    search = input(\"Enter the bus name : \")\n",
    "\n",
    "    print(\"\\n\",search,\":\", buses.get(search))\n",
    "\n",
    "birthDate()"
   ]
  }
 ],
 "metadata": {
  "kernelspec": {
   "display_name": "Python 3",
   "language": "python",
   "name": "python3"
  },
  "language_info": {
   "codemirror_mode": {
    "name": "ipython",
    "version": 3
   },
   "file_extension": ".py",
   "mimetype": "text/x-python",
   "name": "python",
   "nbconvert_exporter": "python",
   "pygments_lexer": "ipython3",
   "version": "3.11.4"
  },
  "orig_nbformat": 4
 },
 "nbformat": 4,
 "nbformat_minor": 2
}
