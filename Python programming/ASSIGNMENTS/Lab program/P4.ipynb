{
 "cells": [
  {
   "cell_type": "markdown",
   "metadata": {},
   "source": [
    "$Hitesh$ $Salimath$</br>\n",
    "$2347118$"
   ]
  },
  {
   "cell_type": "markdown",
   "metadata": {},
   "source": [
    "# P4\n"
   ]
  },
  {
   "cell_type": "code",
   "execution_count": 1,
   "metadata": {},
   "outputs": [],
   "source": [
    "class bmtc:\n",
    "    def __init__(self,bus_type,bus_route,capacity,no_trips,fuel_exp):\n",
    "        self.bus_type = bus_type\n",
    "        self.bus_route = bus_route\n",
    "        self.capacity = capacity\n",
    "        self.no_trips = no_trips\n",
    "        self.fuel_exp = fuel_exp\n",
    "\n",
    "    def bus_info(self):\n",
    "        print(\"The type of bus is: \",self.bus_type)\n",
    "        print(\"The bus route number is: \",self.bus_route)\n",
    "        print(\"The fuel spent is: \",self.fuel_exp, \"liters\")\n",
    "        print(\"Number of trips: \", self.no_trips)\n",
    "        print(\"Number of seats in the bus: \",self.capacity)\n",
    "    \n",
    "    def trips_update(self,trips):\n",
    "        self.no_trips += trips\n",
    "        print(\"Updated number of trips is: \",self.no_trips)\n",
    "\n",
    "    def fuel_update(self,fuel):\n",
    "        self.fuel_exp += fuel\n",
    "        print(\"Updated fuel spent is: \",self.fuel_exp)\n",
    "\n"
   ]
  },
  {
   "cell_type": "code",
   "execution_count": 17,
   "metadata": {},
   "outputs": [
    {
     "name": "stdout",
     "output_type": "stream",
     "text": [
      "Bus 1:- \n",
      "\n",
      "The type of bus is:  vajra\n",
      "The bus route number is:  401K\n",
      "The fuel spent is:  123 liters\n",
      "Number of trips:  30\n",
      "Number of seats in the bus:  40\n",
      "===============================\n",
      "Bus 2:- \n",
      "\n",
      "The type of bus is:  janapriya\n",
      "The bus route number is:  501C\n",
      "The fuel spent is:  156 liters\n",
      "Number of trips:  26\n",
      "Number of seats in the bus:  45\n",
      "===============================\n",
      "Bus 3:- \n",
      "\n",
      "The type of bus is:  pushpaka\n",
      "The bus route number is:  356A\n",
      "The fuel spent is:  148 liters\n",
      "Number of trips:  38\n",
      "Number of seats in the bus:  58\n",
      "===============================\n"
     ]
    }
   ],
   "source": [
    "bus1 = bmtc(\"vajra\",\"401K\",40,30,123)\n",
    "bus2 = bmtc(\"janapriya\",\"501C\",45,26,156)\n",
    "bus3 = bmtc(\"pushpaka\",\"356A\",58,38,148)\n",
    "\n",
    "#Printing Bus details:\n",
    "print(\"Bus 1:- \\n\")\n",
    "bus1.bus_info()\n",
    "print(\"===============================\")\n",
    "print(\"Bus 2:- \\n\")\n",
    "bus2.bus_info()\n",
    "print(\"===============================\")\n",
    "print(\"Bus 3:- \\n\")\n",
    "bus3.bus_info()\n",
    "print(\"===============================\")"
   ]
  },
  {
   "cell_type": "code",
   "execution_count": 12,
   "metadata": {},
   "outputs": [
    {
     "name": "stdout",
     "output_type": "stream",
     "text": [
      "Updated number of trips is:  40\n",
      "===============================\n",
      "Updated number of trips is:  34\n",
      "===============================\n",
      "Updated number of trips is:  42\n"
     ]
    }
   ],
   "source": [
    "#updating number of trips:\n",
    "bus1.trips_update(5)\n",
    "print(\"===============================\")\n",
    "bus2.trips_update(4)\n",
    "print(\"===============================\")\n",
    "bus3.trips_update(2)"
   ]
  },
  {
   "cell_type": "code",
   "execution_count": 11,
   "metadata": {},
   "outputs": [
    {
     "name": "stdout",
     "output_type": "stream",
     "text": [
      "Updated fuel spent is:  130\n",
      "===============================\n",
      "Updated fuel spent is:  165\n",
      "===============================\n",
      "Updated fuel spent is:  151\n"
     ]
    }
   ],
   "source": [
    "#Updating fuel spent:-\n",
    "bus1.fuel_update(7)\n",
    "print(\"===============================\")\n",
    "bus2.fuel_update(9)\n",
    "print(\"===============================\")\n",
    "bus3.fuel_update(3)\n",
    "print(\"\\n===============================\")\n"
   ]
  },
  {
   "cell_type": "code",
   "execution_count": 4,
   "metadata": {},
   "outputs": [
    {
     "name": "stdout",
     "output_type": "stream",
     "text": [
      "The model of the bus is tata heavy motors\n",
      "------------------------------\n",
      "manufactured in 2015, Nasik, Maharashtra\n",
      "------------------------------\n",
      "From hampinagara depot\n",
      "------------------------------\n",
      "The model of the sets are flex enterprise\n",
      "------------------------------\n",
      "The Seats were made in 2014\n",
      "------------------------------\n",
      "The seats are from majestic depot\n",
      "------------------------------\n"
     ]
    }
   ],
   "source": [
    "class typobus():\n",
    "    def model(self):\n",
    "        print(\"The model of the bus is tata heavy motors\")\n",
    "    def manufacture_date(self):\n",
    "        print(\"manufactured in 2015, Nasik, Maharashtra\")\n",
    "    def depot(self):\n",
    "        print(\"From hampinagara depot\")\n",
    "class seats():\n",
    "    def model(self):\n",
    "        print(\"The model of the sets are flex enterprise\")\n",
    "    def manufacture_date(self):\n",
    "        print(\"The Seats were made in 2014\")\n",
    "    def depot(self):\n",
    "        print(\"The seats are from majestic depot\")\n",
    "\n",
    "info_tybus = typobus()\n",
    "info_seat = seats()\n",
    "\n",
    "for attribute in (info_tybus,info_seat):\n",
    "    attribute.model()\n",
    "    print(\"------------------------------\")\n",
    "    attribute.manufacture_date()\n",
    "    print(\"------------------------------\")\n",
    "    attribute.depot()\n",
    "    print(\"------------------------------\")"
   ]
  },
  {
   "cell_type": "code",
   "execution_count": null,
   "metadata": {},
   "outputs": [],
   "source": []
  }
 ],
 "metadata": {
  "kernelspec": {
   "display_name": "base",
   "language": "python",
   "name": "python3"
  },
  "language_info": {
   "codemirror_mode": {
    "name": "ipython",
    "version": 3
   },
   "file_extension": ".py",
   "mimetype": "text/x-python",
   "name": "python",
   "nbconvert_exporter": "python",
   "pygments_lexer": "ipython3",
   "version": "3.11.4"
  },
  "orig_nbformat": 4
 },
 "nbformat": 4,
 "nbformat_minor": 2
}
