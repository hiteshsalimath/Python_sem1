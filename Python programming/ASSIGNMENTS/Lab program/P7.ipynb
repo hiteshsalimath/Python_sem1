{
 "cells": [
  {
   "cell_type": "markdown",
   "metadata": {},
   "source": [
    "# $P7$\n",
    "$2347118$ $Hitesh$ $Salimath$\n",
    "\n",
    "Create an Employee table using a Structured array and answer the questions."
   ]
  },
  {
   "cell_type": "code",
   "execution_count": 5,
   "metadata": {},
   "outputs": [
    {
     "name": "stdout",
     "output_type": "stream",
     "text": [
      "[('Emp_id', 'i8'), ('Last_name', 'U8'), ('First_name', 'U8'), ('Gender', 'U8'), ('Title', 'U8')]\n",
      "\n",
      " [['1000' 'Torbati' 'Yolanda' 'F' 'Programmer']\n",
      " ['1001' 'Kleinn' 'Joel' 'M' 'Programmer']\n",
      " ['1002' 'Ginsburg' 'Laura' 'F' 'President']\n",
      " ['1003' 'Cox' 'Jennifer' 'F' 'Programmer']\n",
      " ['1005' 'Ziada' 'Mauri' 'M' 'Product Designer']\n",
      " ['1006' 'Keyser' 'Cara' 'F' 'Account Executive']\n",
      " ['1010' 'Smith' 'Roxie' 'M' 'Programmer']\n",
      " ['1011' 'Nelson' 'Robert' 'M' 'Programmer']\n",
      " ['1012' 'Sachsen' 'Lars' 'M' 'Support Technicians']\n",
      " ['1013' 'Shannon' 'Don' 'M' 'Product Designer']]\n"
     ]
    }
   ],
   "source": [
    "import numpy as np\n",
    "\n",
    "dtype = [('Emp_id', 'i8'),\n",
    "         ('Last_name', 'U8'),\n",
    "         ('First_name','U8'),\n",
    "         ('Gender','U8'),\n",
    "         ('Title','U8')]\n",
    "\n",
    "emp_data = np.array([(1000,'Torbati','Yolanda','F','Programmer'),\n",
    "                (1001,'Kleinn','Joel','M','Programmer'),\n",
    "                (1002,'Ginsburg','Laura','F','President'),\n",
    "                (1003,'Cox','Jennifer','F','Programmer'),\n",
    "                (1005,'Ziada','Mauri','M','Product Designer'),\n",
    "                (1006,'Keyser','Cara','F','Account Executive'),\n",
    "                (1010,'Smith','Roxie','M','Programmer'),\n",
    "                (1011,'Nelson','Robert','M','Programmer'),\n",
    "                (1012,'Sachsen','Lars','M','Support Technicians'),\n",
    "                (1013,'Shannon','Don','M','Product Designer')],dtype = dtype)\n",
    "\n",
    "print(dtype)\n",
    "print(\"\\n\",data)"
   ]
  },
  {
   "cell_type": "markdown",
   "metadata": {},
   "source": [
    "#### 1. How many Male employees are in a company?"
   ]
  },
  {
   "cell_type": "code",
   "execution_count": 11,
   "metadata": {},
   "outputs": [
    {
     "name": "stdout",
     "output_type": "stream",
     "text": [
      "There are 6 male employees in the company\n"
     ]
    }
   ],
   "source": [
    "gen = emp_data['Gender']\n",
    "male_emp = 0\n",
    "female_emp = 0\n",
    "\n",
    "for i in gen:\n",
    "    if(i=='M'):\n",
    "        male_emp += 1\n",
    "    elif(i=='F'):\n",
    "        female_emp+=1\n",
    "\n",
    "print(f\"There are {male_emp} male employees in the company\") "
   ]
  },
  {
   "cell_type": "markdown",
   "metadata": {},
   "source": [
    "#### 2. Display the details of employees whose Last_Name starts with S."
   ]
  },
  {
   "cell_type": "code",
   "execution_count": 22,
   "metadata": {},
   "outputs": [
    {
     "name": "stdout",
     "output_type": "stream",
     "text": [
      "\n",
      "The details of employees whose Last_Name starts with S are: \n",
      "\n",
      " [('Emp_id', 'i8'), ('Last_name', 'U8'), ('First_name', 'U8'), ('Gender', 'U8'), ('Title', 'U8')]\n",
      "(1010, 'Smith', 'Roxie', 'M', 'Programm')\n",
      "(1012, 'Sachsen', 'Lars', 'M', 'Support ')\n",
      "(1013, 'Shannon', 'Don', 'M', 'Product ')\n"
     ]
    }
   ],
   "source": [
    "l_name = emp_data['Last_name']\n",
    "\n",
    "print(\"\\nThe details of employees whose Last_Name starts with S are: \")\n",
    "print(\"\\n\",dtype)\n",
    "ind = 0\n",
    "\n",
    "for i in l_name:\n",
    "    if(i[0]=='S'):\n",
    "        print(emp_data[ind])\n",
    "    ind += 1 \n",
    "  \n"
   ]
  },
  {
   "cell_type": "markdown",
   "metadata": {},
   "source": [
    "#### 3. Sort the Female Employee details in descending order based on First_Name."
   ]
  },
  {
   "cell_type": "code",
   "execution_count": 26,
   "metadata": {},
   "outputs": [
    {
     "name": "stdout",
     "output_type": "stream",
     "text": [
      "The sorted female employees based of first name are:\n",
      "\n",
      " [(1006, 'Keyser', 'Cara', 'F', 'Account ')\n",
      " (1003, 'Cox', 'Jennifer', 'F', 'Programm')\n",
      " (1002, 'Ginsburg', 'Laura', 'F', 'Presiden')\n",
      " (1000, 'Torbati', 'Yolanda', 'F', 'Programm')]\n"
     ]
    }
   ],
   "source": [
    "fem_emp_data = emp_data[np.where(emp_data['Gender'] == 'F')]\n",
    "\n",
    "sorted_fem_emp = np.sort(fem_emp_data,order='First_name')\n",
    "print(\"The sorted female employees based of first name are:\\n\\n\",sorted_fem_emp)"
   ]
  },
  {
   "cell_type": "markdown",
   "metadata": {},
   "source": [
    "#### 4. Extract 1D array and reshape it into 2D array."
   ]
  },
  {
   "cell_type": "code",
   "execution_count": 41,
   "metadata": {},
   "outputs": [
    {
     "name": "stdout",
     "output_type": "stream",
     "text": [
      "[1002, 'Ginsburg', 'Laura', 'F', 'Presiden']\n",
      "The reshaped array is :\n",
      "  [['1002' 'Ginsburg']\n",
      " ['Laura' 'F']]\n"
     ]
    }
   ],
   "source": [
    "arr1D = list(emp_data[2])\n",
    "print('Input array is', arr1D)\n",
    "\n",
    "Reshaped_array = np.reshape(arr1D[:4],(2,2))\n",
    "print(\"The reshaped array is :\\n \",Reshaped_array)"
   ]
  },
  {
   "cell_type": "markdown",
   "metadata": {},
   "source": [
    "#### 5. Extract the below matrix using Boolean and Fancy indexing."
   ]
  },
  {
   "cell_type": "code",
   "execution_count": 49,
   "metadata": {},
   "outputs": [
    {
     "name": "stdout",
     "output_type": "stream",
     "text": [
      "[(1002, 'Ginsburg', 'Laura', 'F', 'Presiden')\n",
      " (1003, 'Cox', 'Jennifer', 'F', 'Programm')\n",
      " (1005, 'Ziada', 'Mauri', 'M', 'Product ')\n",
      " (1006, 'Keyser', 'Cara', 'F', 'Account ')\n",
      " (1010, 'Smith', 'Roxie', 'M', 'Programm')\n",
      " (1011, 'Nelson', 'Robert', 'M', 'Programm')\n",
      " (1012, 'Sachsen', 'Lars', 'M', 'Support ')]\n"
     ]
    }
   ],
   "source": [
    "#col 0,1,4\n",
    "#rows 2 to 8\n",
    "extraxt = np.array([0,0,1,1,1,1,1,1,1,0],dtype=bool)\n",
    "\n",
    "extr_arr = emp_data[extraxt]\n",
    "print(extr_arr)\n"
   ]
  }
 ],
 "metadata": {
  "kernelspec": {
   "display_name": "Python 3",
   "language": "python",
   "name": "python3"
  },
  "language_info": {
   "codemirror_mode": {
    "name": "ipython",
    "version": 3
   },
   "file_extension": ".py",
   "mimetype": "text/x-python",
   "name": "python",
   "nbconvert_exporter": "python",
   "pygments_lexer": "ipython3",
   "version": "3.11.4"
  },
  "orig_nbformat": 4
 },
 "nbformat": 4,
 "nbformat_minor": 2
}
